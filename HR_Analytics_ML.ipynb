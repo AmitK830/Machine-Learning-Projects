{
  "nbformat": 4,
  "nbformat_minor": 0,
  "metadata": {
    "colab": {
      "name": "HR-Analytics_ML",
      "provenance": [],
      "collapsed_sections": [],
      "authorship_tag": "ABX9TyPXnMSCh8hTeEj9pIq6qq3J",
      "include_colab_link": true
    },
    "kernelspec": {
      "display_name": "Python 3",
      "name": "python3"
    }
  },
  "cells": [
    {
      "cell_type": "markdown",
      "metadata": {
        "id": "view-in-github",
        "colab_type": "text"
      },
      "source": [
        "<a href=\"https://colab.research.google.com/github/AmitK830/Machine-Learning-Projects/blob/main/HR_Analytics_ML.ipynb\" target=\"_parent\"><img src=\"https://colab.research.google.com/assets/colab-badge.svg\" alt=\"Open In Colab\"/></a>"
      ]
    },
    {
      "cell_type": "markdown",
      "metadata": {
        "id": "117wUvBcCp8c"
      },
      "source": [
        "# Load all the Library"
      ]
    },
    {
      "cell_type": "code",
      "metadata": {
        "id": "GA-6jO93RLxC"
      },
      "source": [
        "import pandas as pd\n",
        "import numpy as np\n",
        "import matplotlib.pyplot as plt\n",
        "import seaborn as sns\n",
        "import missingno as msn\n",
        "\n",
        "# Load the ML libraries\n",
        "\n",
        "from sklearn.metrics import roc_auc_score,accuracy_score\n",
        "from sklearn.ensemble import RandomForestClassifier\n",
        "from sklearn.ensemble import AdaBoostClassifier\n",
        "from sklearn import tree\n",
        "from sklearn.tree import DecisionTreeClassifier\n",
        "from sklearn.ensemble import BaggingClassifier\n",
        "from sklearn.model_selection import GridSearchCV, train_test_split\n",
        "from sklearn.preprocessing import StandardScaler"
      ],
      "execution_count": null,
      "outputs": []
    },
    {
      "cell_type": "markdown",
      "metadata": {
        "id": "74MuIX_mbF6K"
      },
      "source": [
        "## Description\n",
        "### Context and Content\n",
        "### A company which is active in Big Data and Data Science wants to hire data scientists among people who successfully pass some courses which conduct by the company. Many people signup for their training. Company wants to know which of these candidates are really wants to work for the company after training or looking for a new employment because it helps to reduce the cost and time as well as the quality of training or planning the courses and categorization of candidates. Information related to demographics, education, experience are in hands from candidates signup and enrollment.\n",
        "\n",
        "### This dataset designed to understand the factors that lead a person to leave current job for HR researches too. By model(s) that uses the current credentials,demographics,experience data you will predict the probability of a candidate to look for a new job or will work for the company, as well as interpreting affected factors on employee decision.\n",
        "\n",
        "### The whole data divided to train and test . Target isn't included in test but the test target values data file is in hands for related tasks. A sample submission correspond to enrollee_id of test set provided too with columns : enrollee _id , target\n",
        "\n",
        "## Note:\n",
        "\n",
        "### The dataset is imbalanced.\n",
        "### Most features are categorical (Nominal, Ordinal, Binary), some with high cardinality.\n",
        "### Missing imputation can be a part of your pipeline as well."
      ]
    },
    {
      "cell_type": "markdown",
      "metadata": {
        "id": "x15wqCasbXOX"
      },
      "source": [
        "## Load the dataset and preview some of the rows"
      ]
    },
    {
      "cell_type": "code",
      "metadata": {
        "colab": {
          "base_uri": "https://localhost:8080/",
          "height": 257
        },
        "id": "SLyH5jlXTOvv",
        "outputId": "5d7431aa-5035-4116-d080-6bafba53a660"
      },
      "source": [
        "df = pd.read_csv(\"/content/aug_train.csv\")\n",
        "df.head()"
      ],
      "execution_count": null,
      "outputs": [
        {
          "output_type": "execute_result",
          "data": {
            "text/html": [
              "<div>\n",
              "<style scoped>\n",
              "    .dataframe tbody tr th:only-of-type {\n",
              "        vertical-align: middle;\n",
              "    }\n",
              "\n",
              "    .dataframe tbody tr th {\n",
              "        vertical-align: top;\n",
              "    }\n",
              "\n",
              "    .dataframe thead th {\n",
              "        text-align: right;\n",
              "    }\n",
              "</style>\n",
              "<table border=\"1\" class=\"dataframe\">\n",
              "  <thead>\n",
              "    <tr style=\"text-align: right;\">\n",
              "      <th></th>\n",
              "      <th>enrollee_id</th>\n",
              "      <th>city</th>\n",
              "      <th>city_development_index</th>\n",
              "      <th>gender</th>\n",
              "      <th>relevent_experience</th>\n",
              "      <th>enrolled_university</th>\n",
              "      <th>education_level</th>\n",
              "      <th>major_discipline</th>\n",
              "      <th>experience</th>\n",
              "      <th>company_size</th>\n",
              "      <th>company_type</th>\n",
              "      <th>last_new_job</th>\n",
              "      <th>training_hours</th>\n",
              "      <th>target</th>\n",
              "    </tr>\n",
              "  </thead>\n",
              "  <tbody>\n",
              "    <tr>\n",
              "      <th>0</th>\n",
              "      <td>8949</td>\n",
              "      <td>city_103</td>\n",
              "      <td>0.920</td>\n",
              "      <td>Male</td>\n",
              "      <td>Has relevent experience</td>\n",
              "      <td>no_enrollment</td>\n",
              "      <td>Graduate</td>\n",
              "      <td>STEM</td>\n",
              "      <td>&gt;20</td>\n",
              "      <td>NaN</td>\n",
              "      <td>NaN</td>\n",
              "      <td>1</td>\n",
              "      <td>36</td>\n",
              "      <td>1.0</td>\n",
              "    </tr>\n",
              "    <tr>\n",
              "      <th>1</th>\n",
              "      <td>29725</td>\n",
              "      <td>city_40</td>\n",
              "      <td>0.776</td>\n",
              "      <td>Male</td>\n",
              "      <td>No relevent experience</td>\n",
              "      <td>no_enrollment</td>\n",
              "      <td>Graduate</td>\n",
              "      <td>STEM</td>\n",
              "      <td>15</td>\n",
              "      <td>50-99</td>\n",
              "      <td>Pvt Ltd</td>\n",
              "      <td>&gt;4</td>\n",
              "      <td>47</td>\n",
              "      <td>0.0</td>\n",
              "    </tr>\n",
              "    <tr>\n",
              "      <th>2</th>\n",
              "      <td>11561</td>\n",
              "      <td>city_21</td>\n",
              "      <td>0.624</td>\n",
              "      <td>NaN</td>\n",
              "      <td>No relevent experience</td>\n",
              "      <td>Full time course</td>\n",
              "      <td>Graduate</td>\n",
              "      <td>STEM</td>\n",
              "      <td>5</td>\n",
              "      <td>NaN</td>\n",
              "      <td>NaN</td>\n",
              "      <td>never</td>\n",
              "      <td>83</td>\n",
              "      <td>0.0</td>\n",
              "    </tr>\n",
              "    <tr>\n",
              "      <th>3</th>\n",
              "      <td>33241</td>\n",
              "      <td>city_115</td>\n",
              "      <td>0.789</td>\n",
              "      <td>NaN</td>\n",
              "      <td>No relevent experience</td>\n",
              "      <td>NaN</td>\n",
              "      <td>Graduate</td>\n",
              "      <td>Business Degree</td>\n",
              "      <td>&lt;1</td>\n",
              "      <td>NaN</td>\n",
              "      <td>Pvt Ltd</td>\n",
              "      <td>never</td>\n",
              "      <td>52</td>\n",
              "      <td>1.0</td>\n",
              "    </tr>\n",
              "    <tr>\n",
              "      <th>4</th>\n",
              "      <td>666</td>\n",
              "      <td>city_162</td>\n",
              "      <td>0.767</td>\n",
              "      <td>Male</td>\n",
              "      <td>Has relevent experience</td>\n",
              "      <td>no_enrollment</td>\n",
              "      <td>Masters</td>\n",
              "      <td>STEM</td>\n",
              "      <td>&gt;20</td>\n",
              "      <td>50-99</td>\n",
              "      <td>Funded Startup</td>\n",
              "      <td>4</td>\n",
              "      <td>8</td>\n",
              "      <td>0.0</td>\n",
              "    </tr>\n",
              "  </tbody>\n",
              "</table>\n",
              "</div>"
            ],
            "text/plain": [
              "   enrollee_id      city  ...  training_hours target\n",
              "0         8949  city_103  ...              36    1.0\n",
              "1        29725   city_40  ...              47    0.0\n",
              "2        11561   city_21  ...              83    0.0\n",
              "3        33241  city_115  ...              52    1.0\n",
              "4          666  city_162  ...               8    0.0\n",
              "\n",
              "[5 rows x 14 columns]"
            ]
          },
          "metadata": {
            "tags": []
          },
          "execution_count": 110
        }
      ]
    },
    {
      "cell_type": "markdown",
      "metadata": {
        "id": "rps8HQLObaG_"
      },
      "source": [
        "### Features\n",
        "\n",
        "### enrollee_id : Unique ID for candidate\n",
        "### city: City code\n",
        "### city_ development _index : Developement index of the city (scaled)\n",
        "### gender: Gender of candidate\n",
        "### relevent_experience: Relevant experience of candidate\n",
        "### enrolled_university: Type of University course enrolled if any\n",
        "### education_level: Education level of candidate\n",
        "### major_discipline :Education major discipline of candidate\n",
        "### experience: Candidate total experience in years\n",
        "### company_size: No of employees in current employer's company\n",
        "### company_type : Type of current employer\n",
        "### lastnewjob: Difference in years between previous job and current job\n",
        "### training_hours: training hours completed\n",
        "### target: 0 – Not looking for job change, 1 – Looking for a job change"
      ]
    },
    {
      "cell_type": "markdown",
      "metadata": {
        "id": "5J0EAUn8TpAA"
      },
      "source": [
        "# Finding the missing value in each column"
      ]
    },
    {
      "cell_type": "code",
      "metadata": {
        "colab": {
          "base_uri": "https://localhost:8080/",
          "height": 634
        },
        "id": "m9o9YcQETOte",
        "outputId": "ffbf88f2-8814-4d7b-b358-796cbf72bdf4"
      },
      "source": [
        "msn.matrix(df)"
      ],
      "execution_count": null,
      "outputs": [
        {
          "output_type": "execute_result",
          "data": {
            "text/plain": [
              "<matplotlib.axes._subplots.AxesSubplot at 0x7f00854cce80>"
            ]
          },
          "metadata": {
            "tags": []
          },
          "execution_count": 4
        },
        {
          "output_type": "display_data",
          "data": {
            "image/png": "[encoded data removed]",
            "text/plain": [
              "<Figure size 1800x720 with 2 Axes>"
            ]
          },
          "metadata": {
            "tags": []
          }
        }
      ]
    },
    {
      "cell_type": "markdown",
      "metadata": {
        "id": "pYcV7Y-XT9Dc"
      },
      "source": [
        "### From the above we can see lots of missing value inside the dataframe, shown by \"white\" line"
      ]
    },
    {
      "cell_type": "code",
      "metadata": {
        "colab": {
          "base_uri": "https://localhost:8080/",
          "height": 179
        },
        "id": "D77oBPuJTOrX",
        "outputId": "2dc5b8ca-2160-44e4-9ee3-c385d078b8c8"
      },
      "source": [
        "df.head(3)"
      ],
      "execution_count": null,
      "outputs": [
        {
          "output_type": "execute_result",
          "data": {
            "text/html": [
              "<div>\n",
              "<style scoped>\n",
              "    .dataframe tbody tr th:only-of-type {\n",
              "        vertical-align: middle;\n",
              "    }\n",
              "\n",
              "    .dataframe tbody tr th {\n",
              "        vertical-align: top;\n",
              "    }\n",
              "\n",
              "    .dataframe thead th {\n",
              "        text-align: right;\n",
              "    }\n",
              "</style>\n",
              "<table border=\"1\" class=\"dataframe\">\n",
              "  <thead>\n",
              "    <tr style=\"text-align: right;\">\n",
              "      <th></th>\n",
              "      <th>enrollee_id</th>\n",
              "      <th>city</th>\n",
              "      <th>city_development_index</th>\n",
              "      <th>gender</th>\n",
              "      <th>relevent_experience</th>\n",
              "      <th>enrolled_university</th>\n",
              "      <th>education_level</th>\n",
              "      <th>major_discipline</th>\n",
              "      <th>experience</th>\n",
              "      <th>company_size</th>\n",
              "      <th>company_type</th>\n",
              "      <th>last_new_job</th>\n",
              "      <th>training_hours</th>\n",
              "      <th>target</th>\n",
              "    </tr>\n",
              "  </thead>\n",
              "  <tbody>\n",
              "    <tr>\n",
              "      <th>0</th>\n",
              "      <td>8949</td>\n",
              "      <td>city_103</td>\n",
              "      <td>0.920</td>\n",
              "      <td>Male</td>\n",
              "      <td>Has relevent experience</td>\n",
              "      <td>no_enrollment</td>\n",
              "      <td>Graduate</td>\n",
              "      <td>STEM</td>\n",
              "      <td>&gt;20</td>\n",
              "      <td>NaN</td>\n",
              "      <td>NaN</td>\n",
              "      <td>1</td>\n",
              "      <td>36</td>\n",
              "      <td>1.0</td>\n",
              "    </tr>\n",
              "    <tr>\n",
              "      <th>1</th>\n",
              "      <td>29725</td>\n",
              "      <td>city_40</td>\n",
              "      <td>0.776</td>\n",
              "      <td>Male</td>\n",
              "      <td>No relevent experience</td>\n",
              "      <td>no_enrollment</td>\n",
              "      <td>Graduate</td>\n",
              "      <td>STEM</td>\n",
              "      <td>15</td>\n",
              "      <td>50-99</td>\n",
              "      <td>Pvt Ltd</td>\n",
              "      <td>&gt;4</td>\n",
              "      <td>47</td>\n",
              "      <td>0.0</td>\n",
              "    </tr>\n",
              "    <tr>\n",
              "      <th>2</th>\n",
              "      <td>11561</td>\n",
              "      <td>city_21</td>\n",
              "      <td>0.624</td>\n",
              "      <td>NaN</td>\n",
              "      <td>No relevent experience</td>\n",
              "      <td>Full time course</td>\n",
              "      <td>Graduate</td>\n",
              "      <td>STEM</td>\n",
              "      <td>5</td>\n",
              "      <td>NaN</td>\n",
              "      <td>NaN</td>\n",
              "      <td>never</td>\n",
              "      <td>83</td>\n",
              "      <td>0.0</td>\n",
              "    </tr>\n",
              "  </tbody>\n",
              "</table>\n",
              "</div>"
            ],
            "text/plain": [
              "   enrollee_id      city  ...  training_hours target\n",
              "0         8949  city_103  ...              36    1.0\n",
              "1        29725   city_40  ...              47    0.0\n",
              "2        11561   city_21  ...              83    0.0\n",
              "\n",
              "[3 rows x 14 columns]"
            ]
          },
          "metadata": {
            "tags": []
          },
          "execution_count": 5
        }
      ]
    },
    {
      "cell_type": "markdown",
      "metadata": {
        "id": "WmQcskM7UNc_"
      },
      "source": [
        "## Counting the NaN values"
      ]
    },
    {
      "cell_type": "code",
      "metadata": {
        "colab": {
          "base_uri": "https://localhost:8080/"
        },
        "id": "Nl7_w3lJTOop",
        "outputId": "c45d8536-2cd3-433b-e2d1-b479c4d5116b"
      },
      "source": [
        "df.isnull().sum()"
      ],
      "execution_count": null,
      "outputs": [
        {
          "output_type": "execute_result",
          "data": {
            "text/plain": [
              "enrollee_id                  0\n",
              "city                         0\n",
              "city_development_index       0\n",
              "gender                    4508\n",
              "relevent_experience          0\n",
              "enrolled_university        386\n",
              "education_level            460\n",
              "major_discipline          2813\n",
              "experience                  65\n",
              "company_size              5938\n",
              "company_type              6140\n",
              "last_new_job               423\n",
              "training_hours               0\n",
              "target                       0\n",
              "dtype: int64"
            ]
          },
          "metadata": {
            "tags": []
          },
          "execution_count": 6
        }
      ]
    },
    {
      "cell_type": "markdown",
      "metadata": {
        "id": "BrSMfLCQU6cr"
      },
      "source": [
        "### Maximum NULL vales contained in \"Company type\", \"Company_size\" & \"gender\"."
      ]
    },
    {
      "cell_type": "code",
      "metadata": {
        "colab": {
          "base_uri": "https://localhost:8080/"
        },
        "id": "PAKOwLMlTOmY",
        "outputId": "58b7c477-1c0a-4a95-ce13-7bb8623806ec"
      },
      "source": [
        "## Shape of dataframe\n",
        "df.shape"
      ],
      "execution_count": null,
      "outputs": [
        {
          "output_type": "execute_result",
          "data": {
            "text/plain": [
              "(19158, 14)"
            ]
          },
          "metadata": {
            "tags": []
          },
          "execution_count": 7
        }
      ]
    },
    {
      "cell_type": "markdown",
      "metadata": {
        "id": "Zyqk_9LvceIx"
      },
      "source": [
        "## Checking the datatype of features"
      ]
    },
    {
      "cell_type": "code",
      "metadata": {
        "colab": {
          "base_uri": "https://localhost:8080/"
        },
        "id": "uQpnEKWWTOkC",
        "outputId": "c6df8c56-0b19-40d8-aa4b-98af5bbfd227"
      },
      "source": [
        "df.dtypes"
      ],
      "execution_count": null,
      "outputs": [
        {
          "output_type": "execute_result",
          "data": {
            "text/plain": [
              "enrollee_id                 int64\n",
              "city                       object\n",
              "city_development_index    float64\n",
              "gender                     object\n",
              "relevent_experience        object\n",
              "enrolled_university        object\n",
              "education_level            object\n",
              "major_discipline           object\n",
              "experience                 object\n",
              "company_size               object\n",
              "company_type               object\n",
              "last_new_job               object\n",
              "training_hours              int64\n",
              "target                    float64\n",
              "dtype: object"
            ]
          },
          "metadata": {
            "tags": []
          },
          "execution_count": 8
        }
      ]
    },
    {
      "cell_type": "markdown",
      "metadata": {
        "id": "FGkMVAaNVqpW"
      },
      "source": [
        "### Categorical features"
      ]
    },
    {
      "cell_type": "code",
      "metadata": {
        "colab": {
          "base_uri": "https://localhost:8080/"
        },
        "id": "8ysSVC1yVp-a",
        "outputId": "fd30ab0f-7a50-45be-d262-2aaa992598ba"
      },
      "source": [
        "cat_val= [feature for feature in df.columns if df[feature].dtypes == 'O']\n",
        "cat_val"
      ],
      "execution_count": null,
      "outputs": [
        {
          "output_type": "execute_result",
          "data": {
            "text/plain": [
              "['city',\n",
              " 'gender',\n",
              " 'relevent_experience',\n",
              " 'enrolled_university',\n",
              " 'education_level',\n",
              " 'major_discipline',\n",
              " 'experience',\n",
              " 'company_size',\n",
              " 'company_type',\n",
              " 'last_new_job']"
            ]
          },
          "metadata": {
            "tags": []
          },
          "execution_count": 111
        }
      ]
    },
    {
      "cell_type": "markdown",
      "metadata": {
        "id": "hK2tkMKqV3yh"
      },
      "source": [
        "### Numerical features"
      ]
    },
    {
      "cell_type": "code",
      "metadata": {
        "colab": {
          "base_uri": "https://localhost:8080/"
        },
        "id": "3I1u1lYbVpQD",
        "outputId": "e05cfdf4-28fb-4955-df3c-1735f070be4f"
      },
      "source": [
        "num_val = [feature for feature in df.columns if feature not in cat_val]\n",
        "num_val"
      ],
      "execution_count": null,
      "outputs": [
        {
          "output_type": "execute_result",
          "data": {
            "text/plain": [
              "['enrollee_id', 'city_development_index', 'training_hours', 'target']"
            ]
          },
          "metadata": {
            "tags": []
          },
          "execution_count": 112
        }
      ]
    },
    {
      "cell_type": "markdown",
      "metadata": {
        "id": "26w85qezVPqP"
      },
      "source": [
        "# Handling Missing values"
      ]
    },
    {
      "cell_type": "markdown",
      "metadata": {
        "id": "MRVgIX-5VVFP"
      },
      "source": [
        "### Since all columns who contained missing values they are all \"category\" type, So i will replace with the maximum frequency value."
      ]
    },
    {
      "cell_type": "code",
      "metadata": {
        "id": "x3gCqfesTOgt"
      },
      "source": [
        "# Replacing all missing values with the column maximum frquency value\n",
        "\n",
        "for feature in cat_val:\n",
        "  max_freq= df[feature].value_counts().index[0]\n",
        "  df[feature] = np.where(df[feature].isnull(), max_freq, df[feature])"
      ],
      "execution_count": null,
      "outputs": []
    },
    {
      "cell_type": "markdown",
      "metadata": {
        "id": "87WKMdHRWwQ9"
      },
      "source": [
        "### Check again for missing values"
      ]
    },
    {
      "cell_type": "code",
      "metadata": {
        "colab": {
          "base_uri": "https://localhost:8080/",
          "height": 634
        },
        "id": "v75ZwjRHTOcb",
        "outputId": "765894b1-490f-4542-eddf-f057779b57f1"
      },
      "source": [
        "msn.matrix(df)"
      ],
      "execution_count": null,
      "outputs": [
        {
          "output_type": "execute_result",
          "data": {
            "text/plain": [
              "<matplotlib.axes._subplots.AxesSubplot at 0x7f3d35ea7a20>"
            ]
          },
          "metadata": {
            "tags": []
          },
          "execution_count": 6
        },
        {
          "output_type": "display_data",
          "data": {
            "image/png": "[encoded data removed]",
            "text/plain": [
              "<Figure size 1800x720 with 2 Axes>"
            ]
          },
          "metadata": {
            "tags": []
          }
        }
      ]
    },
    {
      "cell_type": "markdown",
      "metadata": {
        "id": "EW79lNMwW4v7"
      },
      "source": [
        "### AS we can see No Missing value inside the dataframe"
      ]
    },
    {
      "cell_type": "markdown",
      "metadata": {
        "id": "re0AJulTgmTU"
      },
      "source": [
        "## Handling Outliers in the datset"
      ]
    },
    {
      "cell_type": "code",
      "metadata": {
        "colab": {
          "base_uri": "https://localhost:8080/",
          "height": 352
        },
        "id": "GdrZA_f7g0Ix",
        "outputId": "b48406cd-b786-464e-d5ed-00c2a09b2d32"
      },
      "source": [
        "plt.figure(figsize=(7,5))\n",
        "sns.boxplot(x=df['training_hours'],palette='RdPu_r')"
      ],
      "execution_count": null,
      "outputs": [
        {
          "output_type": "execute_result",
          "data": {
            "text/plain": [
              "<matplotlib.axes._subplots.AxesSubplot at 0x7fd64cc5da58>"
            ]
          },
          "metadata": {
            "tags": []
          },
          "execution_count": 114
        },
        {
          "output_type": "display_data",
          "data": {
            "image/png": "[encoded data removed]",
            "text/plain": [
              "<Figure size 504x360 with 1 Axes>"
            ]
          },
          "metadata": {
            "tags": [],
            "needs_background": "light"
          }
        }
      ]
    },
    {
      "cell_type": "markdown",
      "metadata": {
        "id": "AygUCLKRg4fW"
      },
      "source": [
        "### Log transformation"
      ]
    },
    {
      "cell_type": "code",
      "metadata": {
        "id": "5an1BjafTOVh"
      },
      "source": [
        "df['training_hours'] = np.log(df['training_hours'])"
      ],
      "execution_count": null,
      "outputs": []
    },
    {
      "cell_type": "code",
      "metadata": {
        "colab": {
          "base_uri": "https://localhost:8080/",
          "height": 352
        },
        "id": "BOl1265LhHvI",
        "outputId": "789f25a0-1312-47e3-a19b-02e46b5753ce"
      },
      "source": [
        "plt.figure(figsize=(7,5))\n",
        "sns.boxplot(x=df['training_hours'],palette='RdPu_r')"
      ],
      "execution_count": null,
      "outputs": [
        {
          "output_type": "execute_result",
          "data": {
            "text/plain": [
              "<matplotlib.axes._subplots.AxesSubplot at 0x7fd654fd3d30>"
            ]
          },
          "metadata": {
            "tags": []
          },
          "execution_count": 116
        },
        {
          "output_type": "display_data",
          "data": {
            "image/png": "[encoded data removed]",
            "text/plain": [
              "<Figure size 504x360 with 1 Axes>"
            ]
          },
          "metadata": {
            "tags": [],
            "needs_background": "light"
          }
        }
      ]
    },
    {
      "cell_type": "markdown",
      "metadata": {
        "id": "wOwpWd8ShK6V"
      },
      "source": [
        "## Some outliers are left. I will remove this my IQR method"
      ]
    },
    {
      "cell_type": "code",
      "metadata": {
        "colab": {
          "base_uri": "https://localhost:8080/",
          "height": 352
        },
        "id": "394sFzgihGAU",
        "outputId": "af01ebe1-d969-475a-9c87-70c9a434957a"
      },
      "source": [
        "Q1 =df['training_hours'].describe()[4]\n",
        "Q3 = df['training_hours'].describe()[6]\n",
        "\n",
        "IQR = Q3- Q1\n",
        "\n",
        "max_val = Q3 +1.5*(IQR)\n",
        "min_val = Q1 - 1.5*(IQR)\n",
        "\n",
        "df= df[(df['training_hours'] >= min_val) & (df['training_hours'] <= max_val)]\n",
        "\n",
        "# PLot the boxplot\n",
        "\n",
        "plt.figure(figsize=(7,5))\n",
        "sns.boxplot(x=df['training_hours'],palette='RdPu_r')"
      ],
      "execution_count": null,
      "outputs": [
        {
          "output_type": "execute_result",
          "data": {
            "text/plain": [
              "<matplotlib.axes._subplots.AxesSubplot at 0x7fd654f476a0>"
            ]
          },
          "metadata": {
            "tags": []
          },
          "execution_count": 117
        },
        {
          "output_type": "display_data",
          "data": {
            "image/png": "[encoded data removed]",
            "text/plain": [
              "<Figure size 504x360 with 1 Axes>"
            ]
          },
          "metadata": {
            "tags": [],
            "needs_background": "light"
          }
        }
      ]
    },
    {
      "cell_type": "markdown",
      "metadata": {
        "id": "45IK80t9hWcy"
      },
      "source": [
        "## No outliers are left"
      ]
    },
    {
      "cell_type": "markdown",
      "metadata": {
        "id": "V4xuLxhChdpt"
      },
      "source": [
        "# Data Cleaning is done"
      ]
    },
    {
      "cell_type": "code",
      "metadata": {
        "id": "HUt89grthRnD"
      },
      "source": [
        ""
      ],
      "execution_count": null,
      "outputs": []
    },
    {
      "cell_type": "markdown",
      "metadata": {
        "id": "7o5-MIxNW-eQ"
      },
      "source": [
        "# Explaoratory Data Analysis"
      ]
    },
    {
      "cell_type": "code",
      "metadata": {
        "colab": {
          "base_uri": "https://localhost:8080/",
          "height": 489
        },
        "id": "7vMxVw8l2ol8",
        "outputId": "145bb667-d0f5-4eef-dcf4-7a10532f3ee7"
      },
      "source": [
        "z= df.groupby(['target', 'gender'])['enrollee_id'].count().reset_index()\n",
        "plt.figure(figsize=(20,7))\n",
        "sns.barplot(y= 'gender', x= 'enrollee_id', data=z,hue='target',palette= 'CMRmap_r')\n",
        "plt.title(\"No of Candiadtes gender wise based on Job Change\", size=30)\n",
        "plt.xlabel('No_of_Candidates',size=18)\n",
        "plt.ylabel(\"Gender\", size=18)\n",
        "plt.xticks(size=20)\n",
        "plt.yticks(size=20)\n",
        "plt.legend(fontsize=15,title= 'Target', title_fontsize=25)\n",
        "plt.show()"
      ],
      "execution_count": null,
      "outputs": [
        {
          "output_type": "display_data",
          "data": {
            "image/png": "[encoded data removed]",
            "text/plain": [
              "<Figure size 1440x504 with 1 Axes>"
            ]
          },
          "metadata": {
            "tags": [],
            "needs_background": "light"
          }
        }
      ]
    },
    {
      "cell_type": "markdown",
      "metadata": {
        "id": "MEFBzJGV5FEB"
      },
      "source": [
        "### From the above Plot we can see lots of No of Male Candidate looking for the Job_Change more than Female."
      ]
    },
    {
      "cell_type": "markdown",
      "metadata": {
        "id": "9_b3ChIHeTIn"
      },
      "source": [
        "## Countplots showing the frequency of each category with respect to Major discipline"
      ]
    },
    {
      "cell_type": "code",
      "metadata": {
        "colab": {
          "base_uri": "https://localhost:8080/",
          "height": 832
        },
        "id": "5swpiWRhePGA",
        "outputId": "20482cb4-12e4-4b75-bcc8-10d64bab32bc"
      },
      "source": [
        "\n",
        "plt.figure(figsize=[20,17])\n",
        "plot =[\"relevent_experience\", \"education_level\",\"major_discipline\",\"company_size\",\"company_type\",\"target\"]\n",
        "n=1\n",
        "for p in plot:\n",
        "    plt.subplot(4,2,n)\n",
        "    sns.countplot(x=p, hue=\"major_discipline\", edgecolor=\"black\", alpha=0.8, data=df,palette='RdYlBu',)\n",
        "    sns.despine()\n",
        "    plt.title(\"Count of {}  by Major discipline\".format(p),color='blue',size=20)\n",
        "    plt.legend(loc='upper right', fontsize=10,title=p,title_fontsize=10)\n",
        "    plt.ylabel(\"Total No of Candidates\",size=15)\n",
        "    plt.xlabel(p,size=15)\n",
        "    plt.xticks(color='red',size=12)\n",
        "    plt.yticks(color='red',size=15)\n",
        "    n=n+1\n",
        "plt.tight_layout()\n",
        "\n",
        "plt.show()"
      ],
      "execution_count": null,
      "outputs": [
        {
          "output_type": "display_data",
          "data": {
            "image/png": "[encoded data removed]",
            "text/plain": [
              "<Figure size 1440x1224 with 6 Axes>"
            ]
          },
          "metadata": {
            "tags": []
          }
        }
      ]
    },
    {
      "cell_type": "code",
      "metadata": {
        "colab": {
          "base_uri": "https://localhost:8080/",
          "height": 425
        },
        "id": "6GwsMJkGTOMU",
        "outputId": "6ef7d574-9d9b-4afd-91d8-eafafa7364c2"
      },
      "source": [
        "z= df[df['target'] ==1 ]\n",
        "z= z.groupby(['gender','enrolled_university']).size().reset_index()\n",
        "z.columns = ['gender','enrolled_university', 'No_of_Candidates']\n",
        "\n",
        "z= z.pivot_table(values= 'No_of_Candidates', index= 'enrolled_university',columns= 'gender')\n",
        "\n",
        "z.T.plot(kind='barh',stacked=True, figsize=(15,6),colormap='cividis')\n",
        "plt.title(\"No of Candiadtes gender wise based on  Educational Background\", size=18)\n",
        "plt.xlabel('No_of_Candidates',size=18)\n",
        "plt.ylabel(\"Gender\", size=18)\n",
        "plt.xticks(size=20)\n",
        "plt.yticks(size=20)\n",
        "plt.legend(fontsize=15,title= 'Educational Background', title_fontsize=10)\n",
        "plt.show()"
      ],
      "execution_count": null,
      "outputs": [
        {
          "output_type": "display_data",
          "data": {
            "image/png": "[encoded data removed]",
            "text/plain": [
              "<Figure size 1080x432 with 1 Axes>"
            ]
          },
          "metadata": {
            "tags": [],
            "needs_background": "light"
          }
        }
      ]
    },
    {
      "cell_type": "markdown",
      "metadata": {
        "id": "-SdH1i_hX6tN"
      },
      "source": [
        "### From the above we can see lots of Male Candidates, who are applying for the jobs not taken any Courses in University, followed by Female.\n",
        "\n",
        "### Male who attended University frequency is more than Female"
      ]
    },
    {
      "cell_type": "code",
      "metadata": {
        "id": "x13BWK0dTOC6"
      },
      "source": [
        ""
      ],
      "execution_count": null,
      "outputs": []
    },
    {
      "cell_type": "markdown",
      "metadata": {
        "id": "iec1o8ojYABW"
      },
      "source": [
        "### Dig deeper, Let's see how many non-enrollement  Candiadates have there Educational background or they donot have any? "
      ]
    },
    {
      "cell_type": "code",
      "metadata": {
        "colab": {
          "base_uri": "https://localhost:8080/",
          "height": 425
        },
        "id": "hf6sISduYAm_",
        "outputId": "b9d200e9-889b-4e73-bcd5-9e2675e2ea29"
      },
      "source": [
        "# We will Foucus on Non-Enrollement\n",
        "\n",
        "z= df[(df['enrolled_university'] == 'no_enrollment') & df['target'] ==1]\n",
        "z= df.groupby(['gender','education_level']).size().reset_index()\n",
        "z.columns = ['gender','education_level', 'No_of_Candidates']\n",
        "\n",
        "z= z.pivot_table(values= 'No_of_Candidates', index= 'education_level',columns= 'gender')\n",
        "\n",
        "z.T.plot(kind='barh',stacked=True, figsize=(15,6))\n",
        "plt.title(\"No of Non-Enrollment Candiadtes gender wise based on  Educational Level\", size=18)\n",
        "plt.xlabel('No_of_Candidates',size=18)\n",
        "plt.ylabel(\"Gender\", size=18)\n",
        "plt.xticks(size=20)\n",
        "plt.yticks(size=20)\n",
        "plt.legend(loc='upper right',fontsize=10,title= 'Educational Level', title_fontsize=10)\n",
        "plt.show()"
      ],
      "execution_count": null,
      "outputs": [
        {
          "output_type": "display_data",
          "data": {
            "image/png": "[encoded data removed]",
            "text/plain": [
              "<Figure size 1080x432 with 1 Axes>"
            ]
          },
          "metadata": {
            "tags": [],
            "needs_background": "light"
          }
        }
      ]
    },
    {
      "cell_type": "markdown",
      "metadata": {
        "id": "6vYT_iP5YXoS"
      },
      "source": [
        "### Conclusion from above plot:--- \n",
        "### Male Candidates who are applying for the jobs Maximum haven't enrolled to any courses in University and maximum have \"Graduate\" degree followed by \"Masters\"  & \"High School\"\n",
        "\n",
        "### Female Candidates  who are applying for the jobs Maximum haven't enrolled to any courses in University and maximum have \"Graduate\" degree followed by \"Masters\"."
      ]
    },
    {
      "cell_type": "code",
      "metadata": {
        "colab": {
          "base_uri": "https://localhost:8080/",
          "height": 425
        },
        "id": "tFMGc-mWYEcg",
        "outputId": "572012d1-50dc-4107-a739-0cc1d2a78c16"
      },
      "source": [
        "# We will Foucus on Non-Enrollement\n",
        "z= df[df['enrolled_university'] == 'no_enrollment']\n",
        "z= df.groupby(['gender','major_discipline']).size().reset_index()\n",
        "z.columns = ['gender','major_discipline', 'No_of_Candidates']\n",
        "\n",
        "z= z.pivot_table(values= 'No_of_Candidates', index= 'major_discipline',columns= 'gender')\n",
        "\n",
        "z.T.plot(kind='barh',stacked=True, figsize=(15,6),colormap='RdYlBu')\n",
        "plt.title(\"No of Non-Enrollment Candiadtes gender wise based on  Major Discipline\", size=18)\n",
        "plt.xlabel('No_of_Candidates',size=18)\n",
        "plt.ylabel(\"Gender\", size=18)\n",
        "plt.xticks(size=20)\n",
        "plt.yticks(size=20)\n",
        "plt.legend(loc='upper right',fontsize=10,title= 'Major Diacipline', title_fontsize=10)\n",
        "plt.show()"
      ],
      "execution_count": null,
      "outputs": [
        {
          "output_type": "display_data",
          "data": {
            "image/png": "[encoded data removed]",
            "text/plain": [
              "<Figure size 1080x432 with 1 Axes>"
            ]
          },
          "metadata": {
            "tags": []
          }
        }
      ]
    },
    {
      "cell_type": "markdown",
      "metadata": {
        "id": "6gjsVglcY_to"
      },
      "source": [
        "### From the above Plot :: --  We can say that Maximum Candiadtes belongs to \"STEM\" departments for both \"Male\" & \"Female\"."
      ]
    },
    {
      "cell_type": "code",
      "metadata": {
        "colab": {
          "base_uri": "https://localhost:8080/",
          "height": 514
        },
        "id": "DpGB27Q8Y7GJ",
        "outputId": "55161996-e931-49bf-85af-2ac544fd8009"
      },
      "source": [
        "\n",
        "cats = [ '<1' ,  '1', '2', '3', '4', '5', '6', '7', '8', '9', '10', '11',\n",
        "        '12', '13', '14', '15', '16', '17', '18', '19', '20' , '>20' ]\n",
        "\n",
        "z= df[df['target'] == 1]\n",
        "z= z.experience.value_counts().reset_index().sort_values(by='index',ascending=True)\n",
        "z['index'] = z['index'].astype('str')\n",
        "z['index'] = pd.Categorical(z['index'],categories= cats, ordered=True,)\n",
        "z= z.sort_values(by='index')\n",
        "\n",
        "\n",
        "plt.figure(figsize=(20,6))\n",
        "sns.barplot('index', 'experience', data =z,palette='RdYlBu')\n",
        "plt.title(\"No of Candidates based On there Experience\", size=18)\n",
        "plt.ylabel('No_of_Candidates',size=18)\n",
        "plt.xlabel(\"Experience\", size=18)\n",
        "plt.xticks(size=20)\n",
        "plt.yticks(size=20)\n",
        "\n",
        "plt.show()"
      ],
      "execution_count": null,
      "outputs": [
        {
          "output_type": "stream",
          "text": [
            "/usr/local/lib/python3.6/dist-packages/seaborn/_decorators.py:43: FutureWarning:\n",
            "\n",
            "Pass the following variables as keyword args: x, y. From version 0.12, the only valid positional argument will be `data`, and passing other arguments without an explicit keyword will result in an error or misinterpretation.\n",
            "\n"
          ],
          "name": "stderr"
        },
        {
          "output_type": "display_data",
          "data": {
            "image/png": "[encoded data removed]",
            "text/plain": [
              "<Figure size 1440x432 with 1 Axes>"
            ]
          },
          "metadata": {
            "tags": [],
            "needs_background": "light"
          }
        }
      ]
    },
    {
      "cell_type": "markdown",
      "metadata": {
        "id": "fBTIF809ZKJB"
      },
      "source": [
        "\n",
        "### From the above we can see No of Candidates who applying for the job have  experience is greater than 20 years are more in numbers.\n",
        "\n",
        "### And also there are more  no of candidates, who applying for the job have experience 3,4 and 5 years."
      ]
    },
    {
      "cell_type": "markdown",
      "metadata": {
        "id": "1TP1tiEYZRXa"
      },
      "source": [
        "##   Our Analysis Focus on  Experience > 20 years Candidates"
      ]
    },
    {
      "cell_type": "code",
      "metadata": {
        "colab": {
          "base_uri": "https://localhost:8080/",
          "height": 479
        },
        "id": "jtqn32qkZFrp",
        "outputId": "e3394dd4-5f63-45e9-d8ad-8c1e710dbf76"
      },
      "source": [
        "\n",
        "\n",
        "z= df[df['experience'] == '>20']\n",
        "\n",
        "plt.figure(figsize=(20,7))\n",
        "sns.histplot(data = z, hue='education_level' ,x ='training_hours',palette='YlGnBu_r')\n",
        "\n",
        "\n",
        "plt.title(\"Training Hours based  on Educational Level\", size=18)\n",
        "plt.ylabel('No_of_Candidates',size=18)\n",
        "plt.xlabel(\"Training Hours\", size=18)\n",
        "plt.xticks(size=20)\n",
        "plt.yticks(size=20)\n",
        "\n",
        "plt.show()"
      ],
      "execution_count": null,
      "outputs": [
        {
          "output_type": "display_data",
          "data": {
            "image/png": "[encoded data removed]",
            "text/plain": [
              "<Figure size 1440x504 with 1 Axes>"
            ]
          },
          "metadata": {
            "tags": []
          }
        }
      ]
    },
    {
      "cell_type": "markdown",
      "metadata": {
        "id": "jukZfsn1Z0og"
      },
      "source": [
        "### From the above we can see Candiadtes Who have Experience  >  20 years, Only \"Masters\" & \"Graduate\" Level candidates have spend more training hours."
      ]
    },
    {
      "cell_type": "code",
      "metadata": {
        "colab": {
          "base_uri": "https://localhost:8080/",
          "height": 196
        },
        "id": "3AewfHsWZVJF",
        "outputId": "733c5457-38e6-47ad-c120-eeb9c7dfdd43"
      },
      "source": [
        ""
      ],
      "execution_count": null,
      "outputs": [
        {
          "output_type": "execute_result",
          "data": {
            "text/html": [
              "<div>\n",
              "<style scoped>\n",
              "    .dataframe tbody tr th:only-of-type {\n",
              "        vertical-align: middle;\n",
              "    }\n",
              "\n",
              "    .dataframe tbody tr th {\n",
              "        vertical-align: top;\n",
              "    }\n",
              "\n",
              "    .dataframe thead th {\n",
              "        text-align: right;\n",
              "    }\n",
              "</style>\n",
              "<table border=\"1\" class=\"dataframe\">\n",
              "  <thead>\n",
              "    <tr style=\"text-align: right;\">\n",
              "      <th></th>\n",
              "      <th>enrollee_id</th>\n",
              "      <th>city</th>\n",
              "      <th>city_development_index</th>\n",
              "      <th>relevent_experience</th>\n",
              "      <th>education_level</th>\n",
              "      <th>experience</th>\n",
              "      <th>last_new_job</th>\n",
              "      <th>training_hours</th>\n",
              "      <th>target</th>\n",
              "      <th>gender_Male</th>\n",
              "      <th>gender_Other</th>\n",
              "      <th>company_type_Funded Startup</th>\n",
              "      <th>company_type_NGO</th>\n",
              "      <th>company_type_Other</th>\n",
              "      <th>company_type_Public Sector</th>\n",
              "      <th>company_type_Pvt Ltd</th>\n",
              "      <th>enrolled_university_Part time course</th>\n",
              "      <th>enrolled_university_no_enrollment</th>\n",
              "      <th>major_discipline_Business Degree</th>\n",
              "      <th>major_discipline_Humanities</th>\n",
              "      <th>major_discipline_No Major</th>\n",
              "      <th>major_discipline_Other</th>\n",
              "      <th>major_discipline_STEM</th>\n",
              "      <th>company_size_labels</th>\n",
              "    </tr>\n",
              "  </thead>\n",
              "  <tbody>\n",
              "    <tr>\n",
              "      <th>0</th>\n",
              "      <td>8949</td>\n",
              "      <td>city_103</td>\n",
              "      <td>0.920</td>\n",
              "      <td>Has relevent experience</td>\n",
              "      <td>Graduate</td>\n",
              "      <td>&gt;20</td>\n",
              "      <td>1</td>\n",
              "      <td>3.583519</td>\n",
              "      <td>1.0</td>\n",
              "      <td>1</td>\n",
              "      <td>0</td>\n",
              "      <td>0</td>\n",
              "      <td>0</td>\n",
              "      <td>0</td>\n",
              "      <td>0</td>\n",
              "      <td>1</td>\n",
              "      <td>0</td>\n",
              "      <td>1</td>\n",
              "      <td>0</td>\n",
              "      <td>0</td>\n",
              "      <td>0</td>\n",
              "      <td>0</td>\n",
              "      <td>1</td>\n",
              "      <td>3</td>\n",
              "    </tr>\n",
              "    <tr>\n",
              "      <th>1</th>\n",
              "      <td>29725</td>\n",
              "      <td>city_40</td>\n",
              "      <td>0.776</td>\n",
              "      <td>No relevent experience</td>\n",
              "      <td>Graduate</td>\n",
              "      <td>15</td>\n",
              "      <td>&gt;4</td>\n",
              "      <td>3.850148</td>\n",
              "      <td>0.0</td>\n",
              "      <td>1</td>\n",
              "      <td>0</td>\n",
              "      <td>0</td>\n",
              "      <td>0</td>\n",
              "      <td>0</td>\n",
              "      <td>0</td>\n",
              "      <td>1</td>\n",
              "      <td>0</td>\n",
              "      <td>1</td>\n",
              "      <td>0</td>\n",
              "      <td>0</td>\n",
              "      <td>0</td>\n",
              "      <td>0</td>\n",
              "      <td>1</td>\n",
              "      <td>3</td>\n",
              "    </tr>\n",
              "    <tr>\n",
              "      <th>2</th>\n",
              "      <td>11561</td>\n",
              "      <td>city_21</td>\n",
              "      <td>0.624</td>\n",
              "      <td>No relevent experience</td>\n",
              "      <td>Graduate</td>\n",
              "      <td>5</td>\n",
              "      <td>never</td>\n",
              "      <td>4.418841</td>\n",
              "      <td>0.0</td>\n",
              "      <td>1</td>\n",
              "      <td>0</td>\n",
              "      <td>0</td>\n",
              "      <td>0</td>\n",
              "      <td>0</td>\n",
              "      <td>0</td>\n",
              "      <td>1</td>\n",
              "      <td>0</td>\n",
              "      <td>0</td>\n",
              "      <td>0</td>\n",
              "      <td>0</td>\n",
              "      <td>0</td>\n",
              "      <td>0</td>\n",
              "      <td>1</td>\n",
              "      <td>3</td>\n",
              "    </tr>\n",
              "  </tbody>\n",
              "</table>\n",
              "</div>"
            ],
            "text/plain": [
              "   enrollee_id      city  ...  major_discipline_STEM company_size_labels\n",
              "0         8949  city_103  ...                      1                   3\n",
              "1        29725   city_40  ...                      1                   3\n",
              "2        11561   city_21  ...                      1                   3\n",
              "\n",
              "[3 rows x 24 columns]"
            ]
          },
          "metadata": {
            "tags": []
          },
          "execution_count": 109
        }
      ]
    },
    {
      "cell_type": "code",
      "metadata": {
        "colab": {
          "base_uri": "https://localhost:8080/",
          "height": 258
        },
        "id": "fycp-rwIhlBh",
        "outputId": "f4c84169-9812-4d39-84ec-62374a7f6d96"
      },
      "source": [
        "df.head()"
      ],
      "execution_count": null,
      "outputs": [
        {
          "output_type": "execute_result",
          "data": {
            "text/html": [
              "<div>\n",
              "<style scoped>\n",
              "    .dataframe tbody tr th:only-of-type {\n",
              "        vertical-align: middle;\n",
              "    }\n",
              "\n",
              "    .dataframe tbody tr th {\n",
              "        vertical-align: top;\n",
              "    }\n",
              "\n",
              "    .dataframe thead th {\n",
              "        text-align: right;\n",
              "    }\n",
              "</style>\n",
              "<table border=\"1\" class=\"dataframe\">\n",
              "  <thead>\n",
              "    <tr style=\"text-align: right;\">\n",
              "      <th></th>\n",
              "      <th>enrollee_id</th>\n",
              "      <th>city</th>\n",
              "      <th>city_development_index</th>\n",
              "      <th>gender</th>\n",
              "      <th>relevent_experience</th>\n",
              "      <th>enrolled_university</th>\n",
              "      <th>education_level</th>\n",
              "      <th>major_discipline</th>\n",
              "      <th>experience</th>\n",
              "      <th>company_size</th>\n",
              "      <th>company_type</th>\n",
              "      <th>last_new_job</th>\n",
              "      <th>training_hours</th>\n",
              "      <th>target</th>\n",
              "    </tr>\n",
              "  </thead>\n",
              "  <tbody>\n",
              "    <tr>\n",
              "      <th>0</th>\n",
              "      <td>8949</td>\n",
              "      <td>city_103</td>\n",
              "      <td>0.920</td>\n",
              "      <td>Male</td>\n",
              "      <td>Has relevent experience</td>\n",
              "      <td>no_enrollment</td>\n",
              "      <td>Graduate</td>\n",
              "      <td>STEM</td>\n",
              "      <td>&gt;20</td>\n",
              "      <td>50-99</td>\n",
              "      <td>Pvt Ltd</td>\n",
              "      <td>1</td>\n",
              "      <td>3.583519</td>\n",
              "      <td>1.0</td>\n",
              "    </tr>\n",
              "    <tr>\n",
              "      <th>1</th>\n",
              "      <td>29725</td>\n",
              "      <td>city_40</td>\n",
              "      <td>0.776</td>\n",
              "      <td>Male</td>\n",
              "      <td>No relevent experience</td>\n",
              "      <td>no_enrollment</td>\n",
              "      <td>Graduate</td>\n",
              "      <td>STEM</td>\n",
              "      <td>15</td>\n",
              "      <td>50-99</td>\n",
              "      <td>Pvt Ltd</td>\n",
              "      <td>&gt;4</td>\n",
              "      <td>3.850148</td>\n",
              "      <td>0.0</td>\n",
              "    </tr>\n",
              "    <tr>\n",
              "      <th>2</th>\n",
              "      <td>11561</td>\n",
              "      <td>city_21</td>\n",
              "      <td>0.624</td>\n",
              "      <td>Male</td>\n",
              "      <td>No relevent experience</td>\n",
              "      <td>Full time course</td>\n",
              "      <td>Graduate</td>\n",
              "      <td>STEM</td>\n",
              "      <td>5</td>\n",
              "      <td>50-99</td>\n",
              "      <td>Pvt Ltd</td>\n",
              "      <td>never</td>\n",
              "      <td>4.418841</td>\n",
              "      <td>0.0</td>\n",
              "    </tr>\n",
              "    <tr>\n",
              "      <th>3</th>\n",
              "      <td>33241</td>\n",
              "      <td>city_115</td>\n",
              "      <td>0.789</td>\n",
              "      <td>Male</td>\n",
              "      <td>No relevent experience</td>\n",
              "      <td>no_enrollment</td>\n",
              "      <td>Graduate</td>\n",
              "      <td>Business Degree</td>\n",
              "      <td>&lt;1</td>\n",
              "      <td>50-99</td>\n",
              "      <td>Pvt Ltd</td>\n",
              "      <td>never</td>\n",
              "      <td>3.951244</td>\n",
              "      <td>1.0</td>\n",
              "    </tr>\n",
              "    <tr>\n",
              "      <th>4</th>\n",
              "      <td>666</td>\n",
              "      <td>city_162</td>\n",
              "      <td>0.767</td>\n",
              "      <td>Male</td>\n",
              "      <td>Has relevent experience</td>\n",
              "      <td>no_enrollment</td>\n",
              "      <td>Masters</td>\n",
              "      <td>STEM</td>\n",
              "      <td>&gt;20</td>\n",
              "      <td>50-99</td>\n",
              "      <td>Funded Startup</td>\n",
              "      <td>4</td>\n",
              "      <td>2.079442</td>\n",
              "      <td>0.0</td>\n",
              "    </tr>\n",
              "  </tbody>\n",
              "</table>\n",
              "</div>"
            ],
            "text/plain": [
              "   enrollee_id      city  ...  training_hours target\n",
              "0         8949  city_103  ...        3.583519    1.0\n",
              "1        29725   city_40  ...        3.850148    0.0\n",
              "2        11561   city_21  ...        4.418841    0.0\n",
              "3        33241  city_115  ...        3.951244    1.0\n",
              "4          666  city_162  ...        2.079442    0.0\n",
              "\n",
              "[5 rows x 14 columns]"
            ]
          },
          "metadata": {
            "tags": []
          },
          "execution_count": 132
        }
      ]
    },
    {
      "cell_type": "markdown",
      "metadata": {
        "id": "qCXmL0_qgLOQ"
      },
      "source": [
        "# Feature Engineering- Encoding"
      ]
    },
    {
      "cell_type": "code",
      "metadata": {
        "id": "onbw52BIfwSU"
      },
      "source": [
        "# Dummy Encoding\n",
        "\n",
        "df= pd.get_dummies(data= df,columns=['gender','company_type', 'enrolled_university', 'major_discipline'],drop_first=True,)"
      ],
      "execution_count": null,
      "outputs": []
    },
    {
      "cell_type": "markdown",
      "metadata": {
        "id": "qjWk7bfvbNjS"
      },
      "source": [
        "## Encoding \"company_size\" Manually"
      ]
    },
    {
      "cell_type": "code",
      "metadata": {
        "id": "kruxssQhbR6e"
      },
      "source": [
        "# Handling company_size columns\n",
        "orders = {'50-99' : 3, '100-500': 4, '10000+' : 8, '10/49' : 2, '1000-4999' : 6, '<10' : 1, '500-999':5,\n",
        "         '5000-9999' : 7}\n",
        "\n",
        "df['company_size_labels'] = df['company_size'].map(orders)\n",
        "\n",
        "# Remove comapny_size from the dataset\n",
        "\n",
        "df = df.drop(columns=['company_size'])\n"
      ],
      "execution_count": null,
      "outputs": []
    },
    {
      "cell_type": "code",
      "metadata": {
        "colab": {
          "base_uri": "https://localhost:8080/",
          "height": 161
        },
        "id": "KiQKvhUFh2C3",
        "outputId": "2d5e4eac-46d1-4751-8fd2-22703932048f"
      },
      "source": [
        "df.head(2)"
      ],
      "execution_count": null,
      "outputs": [
        {
          "output_type": "execute_result",
          "data": {
            "text/html": [
              "<div>\n",
              "<style scoped>\n",
              "    .dataframe tbody tr th:only-of-type {\n",
              "        vertical-align: middle;\n",
              "    }\n",
              "\n",
              "    .dataframe tbody tr th {\n",
              "        vertical-align: top;\n",
              "    }\n",
              "\n",
              "    .dataframe thead th {\n",
              "        text-align: right;\n",
              "    }\n",
              "</style>\n",
              "<table border=\"1\" class=\"dataframe\">\n",
              "  <thead>\n",
              "    <tr style=\"text-align: right;\">\n",
              "      <th></th>\n",
              "      <th>enrollee_id</th>\n",
              "      <th>city</th>\n",
              "      <th>city_development_index</th>\n",
              "      <th>relevent_experience</th>\n",
              "      <th>education_level</th>\n",
              "      <th>experience</th>\n",
              "      <th>last_new_job</th>\n",
              "      <th>training_hours</th>\n",
              "      <th>target</th>\n",
              "      <th>gender_Male</th>\n",
              "      <th>gender_Other</th>\n",
              "      <th>company_type_Funded Startup</th>\n",
              "      <th>company_type_NGO</th>\n",
              "      <th>company_type_Other</th>\n",
              "      <th>company_type_Public Sector</th>\n",
              "      <th>company_type_Pvt Ltd</th>\n",
              "      <th>enrolled_university_Part time course</th>\n",
              "      <th>enrolled_university_no_enrollment</th>\n",
              "      <th>major_discipline_Business Degree</th>\n",
              "      <th>major_discipline_Humanities</th>\n",
              "      <th>major_discipline_No Major</th>\n",
              "      <th>major_discipline_Other</th>\n",
              "      <th>major_discipline_STEM</th>\n",
              "      <th>company_size_labels</th>\n",
              "    </tr>\n",
              "  </thead>\n",
              "  <tbody>\n",
              "    <tr>\n",
              "      <th>0</th>\n",
              "      <td>8949</td>\n",
              "      <td>city_103</td>\n",
              "      <td>0.920</td>\n",
              "      <td>Has relevent experience</td>\n",
              "      <td>Graduate</td>\n",
              "      <td>&gt;20</td>\n",
              "      <td>1</td>\n",
              "      <td>3.583519</td>\n",
              "      <td>1.0</td>\n",
              "      <td>1</td>\n",
              "      <td>0</td>\n",
              "      <td>0</td>\n",
              "      <td>0</td>\n",
              "      <td>0</td>\n",
              "      <td>0</td>\n",
              "      <td>1</td>\n",
              "      <td>0</td>\n",
              "      <td>1</td>\n",
              "      <td>0</td>\n",
              "      <td>0</td>\n",
              "      <td>0</td>\n",
              "      <td>0</td>\n",
              "      <td>1</td>\n",
              "      <td>3</td>\n",
              "    </tr>\n",
              "    <tr>\n",
              "      <th>1</th>\n",
              "      <td>29725</td>\n",
              "      <td>city_40</td>\n",
              "      <td>0.776</td>\n",
              "      <td>No relevent experience</td>\n",
              "      <td>Graduate</td>\n",
              "      <td>15</td>\n",
              "      <td>&gt;4</td>\n",
              "      <td>3.850148</td>\n",
              "      <td>0.0</td>\n",
              "      <td>1</td>\n",
              "      <td>0</td>\n",
              "      <td>0</td>\n",
              "      <td>0</td>\n",
              "      <td>0</td>\n",
              "      <td>0</td>\n",
              "      <td>1</td>\n",
              "      <td>0</td>\n",
              "      <td>1</td>\n",
              "      <td>0</td>\n",
              "      <td>0</td>\n",
              "      <td>0</td>\n",
              "      <td>0</td>\n",
              "      <td>1</td>\n",
              "      <td>3</td>\n",
              "    </tr>\n",
              "  </tbody>\n",
              "</table>\n",
              "</div>"
            ],
            "text/plain": [
              "   enrollee_id      city  ...  major_discipline_STEM company_size_labels\n",
              "0         8949  city_103  ...                      1                   3\n",
              "1        29725   city_40  ...                      1                   3\n",
              "\n",
              "[2 rows x 24 columns]"
            ]
          },
          "metadata": {
            "tags": []
          },
          "execution_count": 11
        }
      ]
    },
    {
      "cell_type": "markdown",
      "metadata": {
        "id": "NTqEbenJPJIV"
      },
      "source": [
        "## Hash Encoding"
      ]
    },
    {
      "cell_type": "code",
      "metadata": {
        "colab": {
          "base_uri": "https://localhost:8080/"
        },
        "id": "MZYcCU8_P2Mg",
        "outputId": "8abe1d6b-94bf-4615-ea3b-b978545e034c"
      },
      "source": [
        "! pip install --upgrade category_encoders"
      ],
      "execution_count": null,
      "outputs": [
        {
          "output_type": "stream",
          "text": [
            "Requirement already up-to-date: category_encoders in /usr/local/lib/python3.6/dist-packages (2.2.2)\n",
            "Requirement already satisfied, skipping upgrade: scikit-learn>=0.20.0 in /usr/local/lib/python3.6/dist-packages (from category_encoders) (0.22.2.post1)\n",
            "Requirement already satisfied, skipping upgrade: statsmodels>=0.9.0 in /usr/local/lib/python3.6/dist-packages (from category_encoders) (0.10.2)\n",
            "Requirement already satisfied, skipping upgrade: pandas>=0.21.1 in /usr/local/lib/python3.6/dist-packages (from category_encoders) (1.1.5)\n",
            "Requirement already satisfied, skipping upgrade: numpy>=1.14.0 in /usr/local/lib/python3.6/dist-packages (from category_encoders) (1.19.5)\n",
            "Requirement already satisfied, skipping upgrade: scipy>=1.0.0 in /usr/local/lib/python3.6/dist-packages (from category_encoders) (1.4.1)\n",
            "Requirement already satisfied, skipping upgrade: patsy>=0.5.1 in /usr/local/lib/python3.6/dist-packages (from category_encoders) (0.5.1)\n",
            "Requirement already satisfied, skipping upgrade: joblib>=0.11 in /usr/local/lib/python3.6/dist-packages (from scikit-learn>=0.20.0->category_encoders) (1.0.0)\n",
            "Requirement already satisfied, skipping upgrade: python-dateutil>=2.7.3 in /usr/local/lib/python3.6/dist-packages (from pandas>=0.21.1->category_encoders) (2.8.1)\n",
            "Requirement already satisfied, skipping upgrade: pytz>=2017.2 in /usr/local/lib/python3.6/dist-packages (from pandas>=0.21.1->category_encoders) (2018.9)\n",
            "Requirement already satisfied, skipping upgrade: six in /usr/local/lib/python3.6/dist-packages (from patsy>=0.5.1->category_encoders) (1.15.0)\n"
          ],
          "name": "stdout"
        }
      ]
    },
    {
      "cell_type": "code",
      "metadata": {
        "colab": {
          "base_uri": "https://localhost:8080/"
        },
        "id": "o4I9ERQAPDbk",
        "outputId": "b02ee824-8f7a-42c3-881f-1cb93342f00d"
      },
      "source": [
        "# Hash Encoding for 'City'\n",
        "\n",
        "import category_encoders as cat_encoders\n",
        "\n",
        "city_encoder = cat_encoders.HashingEncoder(cols=['city'])\n",
        "\n",
        "city_he = city_encoder.fit_transform(df['city'], df['target'])\n",
        "\n",
        "df_1 =df.drop(columns=['city'])\n",
        "\n",
        "new_df = pd.concat([df_1, city_he],axis=1)"
      ],
      "execution_count": null,
      "outputs": [
        {
          "output_type": "stream",
          "text": [
            "/usr/local/lib/python3.6/dist-packages/statsmodels/tools/_testing.py:19: FutureWarning:\n",
            "\n",
            "pandas.util.testing is deprecated. Use the functions in the public API at pandas.testing instead.\n",
            "\n",
            "/usr/local/lib/python3.6/dist-packages/category_encoders/utils.py:21: FutureWarning:\n",
            "\n",
            "is_categorical is deprecated and will be removed in a future version.  Use is_categorical_dtype instead\n",
            "\n"
          ],
          "name": "stderr"
        }
      ]
    },
    {
      "cell_type": "code",
      "metadata": {
        "colab": {
          "base_uri": "https://localhost:8080/",
          "height": 196
        },
        "id": "ZVhAfsz0PxnP",
        "outputId": "20c5c66d-9633-4ed5-ff38-28bf5fb5017b"
      },
      "source": [
        "new_df.head(3)"
      ],
      "execution_count": null,
      "outputs": [
        {
          "output_type": "execute_result",
          "data": {
            "text/html": [
              "<div>\n",
              "<style scoped>\n",
              "    .dataframe tbody tr th:only-of-type {\n",
              "        vertical-align: middle;\n",
              "    }\n",
              "\n",
              "    .dataframe tbody tr th {\n",
              "        vertical-align: top;\n",
              "    }\n",
              "\n",
              "    .dataframe thead th {\n",
              "        text-align: right;\n",
              "    }\n",
              "</style>\n",
              "<table border=\"1\" class=\"dataframe\">\n",
              "  <thead>\n",
              "    <tr style=\"text-align: right;\">\n",
              "      <th></th>\n",
              "      <th>enrollee_id</th>\n",
              "      <th>city_development_index</th>\n",
              "      <th>relevent_experience</th>\n",
              "      <th>education_level</th>\n",
              "      <th>experience</th>\n",
              "      <th>last_new_job</th>\n",
              "      <th>training_hours</th>\n",
              "      <th>target</th>\n",
              "      <th>gender_Male</th>\n",
              "      <th>gender_Other</th>\n",
              "      <th>company_type_Funded Startup</th>\n",
              "      <th>company_type_NGO</th>\n",
              "      <th>company_type_Other</th>\n",
              "      <th>company_type_Public Sector</th>\n",
              "      <th>company_type_Pvt Ltd</th>\n",
              "      <th>enrolled_university_Part time course</th>\n",
              "      <th>enrolled_university_no_enrollment</th>\n",
              "      <th>major_discipline_Business Degree</th>\n",
              "      <th>major_discipline_Humanities</th>\n",
              "      <th>major_discipline_No Major</th>\n",
              "      <th>major_discipline_Other</th>\n",
              "      <th>major_discipline_STEM</th>\n",
              "      <th>company_size_labels</th>\n",
              "      <th>col_0</th>\n",
              "      <th>col_1</th>\n",
              "      <th>col_2</th>\n",
              "      <th>col_3</th>\n",
              "      <th>col_4</th>\n",
              "      <th>col_5</th>\n",
              "      <th>col_6</th>\n",
              "      <th>col_7</th>\n",
              "    </tr>\n",
              "  </thead>\n",
              "  <tbody>\n",
              "    <tr>\n",
              "      <th>0</th>\n",
              "      <td>8949</td>\n",
              "      <td>0.920</td>\n",
              "      <td>Has relevent experience</td>\n",
              "      <td>Graduate</td>\n",
              "      <td>&gt;20</td>\n",
              "      <td>1</td>\n",
              "      <td>3.583519</td>\n",
              "      <td>1.0</td>\n",
              "      <td>1</td>\n",
              "      <td>0</td>\n",
              "      <td>0</td>\n",
              "      <td>0</td>\n",
              "      <td>0</td>\n",
              "      <td>0</td>\n",
              "      <td>1</td>\n",
              "      <td>0</td>\n",
              "      <td>1</td>\n",
              "      <td>0</td>\n",
              "      <td>0</td>\n",
              "      <td>0</td>\n",
              "      <td>0</td>\n",
              "      <td>1</td>\n",
              "      <td>3</td>\n",
              "      <td>0</td>\n",
              "      <td>1</td>\n",
              "      <td>0</td>\n",
              "      <td>0</td>\n",
              "      <td>0</td>\n",
              "      <td>0</td>\n",
              "      <td>0</td>\n",
              "      <td>0</td>\n",
              "    </tr>\n",
              "    <tr>\n",
              "      <th>1</th>\n",
              "      <td>29725</td>\n",
              "      <td>0.776</td>\n",
              "      <td>No relevent experience</td>\n",
              "      <td>Graduate</td>\n",
              "      <td>15</td>\n",
              "      <td>&gt;4</td>\n",
              "      <td>3.850148</td>\n",
              "      <td>0.0</td>\n",
              "      <td>1</td>\n",
              "      <td>0</td>\n",
              "      <td>0</td>\n",
              "      <td>0</td>\n",
              "      <td>0</td>\n",
              "      <td>0</td>\n",
              "      <td>1</td>\n",
              "      <td>0</td>\n",
              "      <td>1</td>\n",
              "      <td>0</td>\n",
              "      <td>0</td>\n",
              "      <td>0</td>\n",
              "      <td>0</td>\n",
              "      <td>1</td>\n",
              "      <td>3</td>\n",
              "      <td>0</td>\n",
              "      <td>0</td>\n",
              "      <td>0</td>\n",
              "      <td>0</td>\n",
              "      <td>0</td>\n",
              "      <td>0</td>\n",
              "      <td>1</td>\n",
              "      <td>0</td>\n",
              "    </tr>\n",
              "    <tr>\n",
              "      <th>2</th>\n",
              "      <td>11561</td>\n",
              "      <td>0.624</td>\n",
              "      <td>No relevent experience</td>\n",
              "      <td>Graduate</td>\n",
              "      <td>5</td>\n",
              "      <td>never</td>\n",
              "      <td>4.418841</td>\n",
              "      <td>0.0</td>\n",
              "      <td>1</td>\n",
              "      <td>0</td>\n",
              "      <td>0</td>\n",
              "      <td>0</td>\n",
              "      <td>0</td>\n",
              "      <td>0</td>\n",
              "      <td>1</td>\n",
              "      <td>0</td>\n",
              "      <td>0</td>\n",
              "      <td>0</td>\n",
              "      <td>0</td>\n",
              "      <td>0</td>\n",
              "      <td>0</td>\n",
              "      <td>1</td>\n",
              "      <td>3</td>\n",
              "      <td>0</td>\n",
              "      <td>0</td>\n",
              "      <td>0</td>\n",
              "      <td>0</td>\n",
              "      <td>0</td>\n",
              "      <td>1</td>\n",
              "      <td>0</td>\n",
              "      <td>0</td>\n",
              "    </tr>\n",
              "  </tbody>\n",
              "</table>\n",
              "</div>"
            ],
            "text/plain": [
              "   enrollee_id  city_development_index  ... col_6 col_7\n",
              "0         8949                   0.920  ...     0     0\n",
              "1        29725                   0.776  ...     1     0\n",
              "2        11561                   0.624  ...     0     0\n",
              "\n",
              "[3 rows x 31 columns]"
            ]
          },
          "metadata": {
            "tags": []
          },
          "execution_count": 16
        }
      ]
    },
    {
      "cell_type": "markdown",
      "metadata": {
        "id": "3Ddw0i3USHkZ"
      },
      "source": [
        "## Label Encoding of Ordinal Variables "
      ]
    },
    {
      "cell_type": "code",
      "metadata": {
        "colab": {
          "base_uri": "https://localhost:8080/"
        },
        "id": "ShBmZbqxRUHY",
        "outputId": "d216c5f7-1336-4c47-dc19-95c7436f98f2"
      },
      "source": [
        "## Ordinal features =   relevent experience,education_level, experience, last_new_job\n",
        "\n",
        "from sklearn.preprocessing import LabelEncoder as le\n",
        "from collections import defaultdict\n",
        "d = defaultdict(le)\n",
        "\n",
        "ordinal_df = new_df[['relevent_experience','education_level','experience','last_new_job']].apply(lambda x: d[x.name].fit_transform(x),axis=0)\n",
        "\n",
        "# Remove ordinal features from original dataset\n",
        "\n",
        "\n",
        "new_df= new_df.drop(columns=['relevent_experience', 'education_level', 'experience', 'last_new_job'])\n",
        "# Add to dataframe\n",
        "train_df= pd.concat([new_df,ordinal_df],axis=1)\n",
        "\n",
        "train_df.columns"
      ],
      "execution_count": null,
      "outputs": [
        {
          "output_type": "execute_result",
          "data": {
            "text/plain": [
              "Index(['enrollee_id', 'city_development_index', 'training_hours', 'target',\n",
              "       'gender_Male', 'gender_Other', 'company_type_Funded Startup',\n",
              "       'company_type_NGO', 'company_type_Other', 'company_type_Public Sector',\n",
              "       'company_type_Pvt Ltd', 'enrolled_university_Part time course',\n",
              "       'enrolled_university_no_enrollment', 'major_discipline_Business Degree',\n",
              "       'major_discipline_Humanities', 'major_discipline_No Major',\n",
              "       'major_discipline_Other', 'major_discipline_STEM',\n",
              "       'company_size_labels', 'col_0', 'col_1', 'col_2', 'col_3', 'col_4',\n",
              "       'col_5', 'col_6', 'col_7', 'relevent_experience', 'education_level',\n",
              "       'experience', 'last_new_job'],\n",
              "      dtype='object')"
            ]
          },
          "metadata": {
            "tags": []
          },
          "execution_count": 17
        }
      ]
    },
    {
      "cell_type": "code",
      "metadata": {
        "colab": {
          "base_uri": "https://localhost:8080/",
          "height": 240
        },
        "id": "fdPfUKf0SvCN",
        "outputId": "cf812f96-a963-4370-f1e3-719b3b87d290"
      },
      "source": [
        "train_df.head()"
      ],
      "execution_count": null,
      "outputs": [
        {
          "output_type": "execute_result",
          "data": {
            "text/html": [
              "<div>\n",
              "<style scoped>\n",
              "    .dataframe tbody tr th:only-of-type {\n",
              "        vertical-align: middle;\n",
              "    }\n",
              "\n",
              "    .dataframe tbody tr th {\n",
              "        vertical-align: top;\n",
              "    }\n",
              "\n",
              "    .dataframe thead th {\n",
              "        text-align: right;\n",
              "    }\n",
              "</style>\n",
              "<table border=\"1\" class=\"dataframe\">\n",
              "  <thead>\n",
              "    <tr style=\"text-align: right;\">\n",
              "      <th></th>\n",
              "      <th>enrollee_id</th>\n",
              "      <th>city_development_index</th>\n",
              "      <th>training_hours</th>\n",
              "      <th>target</th>\n",
              "      <th>gender_Male</th>\n",
              "      <th>gender_Other</th>\n",
              "      <th>company_type_Funded Startup</th>\n",
              "      <th>company_type_NGO</th>\n",
              "      <th>company_type_Other</th>\n",
              "      <th>company_type_Public Sector</th>\n",
              "      <th>company_type_Pvt Ltd</th>\n",
              "      <th>enrolled_university_Part time course</th>\n",
              "      <th>enrolled_university_no_enrollment</th>\n",
              "      <th>major_discipline_Business Degree</th>\n",
              "      <th>major_discipline_Humanities</th>\n",
              "      <th>major_discipline_No Major</th>\n",
              "      <th>major_discipline_Other</th>\n",
              "      <th>major_discipline_STEM</th>\n",
              "      <th>company_size_labels</th>\n",
              "      <th>col_0</th>\n",
              "      <th>col_1</th>\n",
              "      <th>col_2</th>\n",
              "      <th>col_3</th>\n",
              "      <th>col_4</th>\n",
              "      <th>col_5</th>\n",
              "      <th>col_6</th>\n",
              "      <th>col_7</th>\n",
              "      <th>relevent_experience</th>\n",
              "      <th>education_level</th>\n",
              "      <th>experience</th>\n",
              "      <th>last_new_job</th>\n",
              "    </tr>\n",
              "  </thead>\n",
              "  <tbody>\n",
              "    <tr>\n",
              "      <th>0</th>\n",
              "      <td>8949</td>\n",
              "      <td>0.920</td>\n",
              "      <td>3.583519</td>\n",
              "      <td>1.0</td>\n",
              "      <td>1</td>\n",
              "      <td>0</td>\n",
              "      <td>0</td>\n",
              "      <td>0</td>\n",
              "      <td>0</td>\n",
              "      <td>0</td>\n",
              "      <td>1</td>\n",
              "      <td>0</td>\n",
              "      <td>1</td>\n",
              "      <td>0</td>\n",
              "      <td>0</td>\n",
              "      <td>0</td>\n",
              "      <td>0</td>\n",
              "      <td>1</td>\n",
              "      <td>3</td>\n",
              "      <td>0</td>\n",
              "      <td>1</td>\n",
              "      <td>0</td>\n",
              "      <td>0</td>\n",
              "      <td>0</td>\n",
              "      <td>0</td>\n",
              "      <td>0</td>\n",
              "      <td>0</td>\n",
              "      <td>0</td>\n",
              "      <td>0</td>\n",
              "      <td>21</td>\n",
              "      <td>0</td>\n",
              "    </tr>\n",
              "    <tr>\n",
              "      <th>1</th>\n",
              "      <td>29725</td>\n",
              "      <td>0.776</td>\n",
              "      <td>3.850148</td>\n",
              "      <td>0.0</td>\n",
              "      <td>1</td>\n",
              "      <td>0</td>\n",
              "      <td>0</td>\n",
              "      <td>0</td>\n",
              "      <td>0</td>\n",
              "      <td>0</td>\n",
              "      <td>1</td>\n",
              "      <td>0</td>\n",
              "      <td>1</td>\n",
              "      <td>0</td>\n",
              "      <td>0</td>\n",
              "      <td>0</td>\n",
              "      <td>0</td>\n",
              "      <td>1</td>\n",
              "      <td>3</td>\n",
              "      <td>0</td>\n",
              "      <td>0</td>\n",
              "      <td>0</td>\n",
              "      <td>0</td>\n",
              "      <td>0</td>\n",
              "      <td>0</td>\n",
              "      <td>1</td>\n",
              "      <td>0</td>\n",
              "      <td>1</td>\n",
              "      <td>0</td>\n",
              "      <td>6</td>\n",
              "      <td>4</td>\n",
              "    </tr>\n",
              "    <tr>\n",
              "      <th>2</th>\n",
              "      <td>11561</td>\n",
              "      <td>0.624</td>\n",
              "      <td>4.418841</td>\n",
              "      <td>0.0</td>\n",
              "      <td>1</td>\n",
              "      <td>0</td>\n",
              "      <td>0</td>\n",
              "      <td>0</td>\n",
              "      <td>0</td>\n",
              "      <td>0</td>\n",
              "      <td>1</td>\n",
              "      <td>0</td>\n",
              "      <td>0</td>\n",
              "      <td>0</td>\n",
              "      <td>0</td>\n",
              "      <td>0</td>\n",
              "      <td>0</td>\n",
              "      <td>1</td>\n",
              "      <td>3</td>\n",
              "      <td>0</td>\n",
              "      <td>0</td>\n",
              "      <td>0</td>\n",
              "      <td>0</td>\n",
              "      <td>0</td>\n",
              "      <td>1</td>\n",
              "      <td>0</td>\n",
              "      <td>0</td>\n",
              "      <td>1</td>\n",
              "      <td>0</td>\n",
              "      <td>15</td>\n",
              "      <td>5</td>\n",
              "    </tr>\n",
              "    <tr>\n",
              "      <th>3</th>\n",
              "      <td>33241</td>\n",
              "      <td>0.789</td>\n",
              "      <td>3.951244</td>\n",
              "      <td>1.0</td>\n",
              "      <td>1</td>\n",
              "      <td>0</td>\n",
              "      <td>0</td>\n",
              "      <td>0</td>\n",
              "      <td>0</td>\n",
              "      <td>0</td>\n",
              "      <td>1</td>\n",
              "      <td>0</td>\n",
              "      <td>1</td>\n",
              "      <td>1</td>\n",
              "      <td>0</td>\n",
              "      <td>0</td>\n",
              "      <td>0</td>\n",
              "      <td>0</td>\n",
              "      <td>3</td>\n",
              "      <td>0</td>\n",
              "      <td>0</td>\n",
              "      <td>0</td>\n",
              "      <td>0</td>\n",
              "      <td>0</td>\n",
              "      <td>1</td>\n",
              "      <td>0</td>\n",
              "      <td>0</td>\n",
              "      <td>1</td>\n",
              "      <td>0</td>\n",
              "      <td>20</td>\n",
              "      <td>5</td>\n",
              "    </tr>\n",
              "    <tr>\n",
              "      <th>4</th>\n",
              "      <td>666</td>\n",
              "      <td>0.767</td>\n",
              "      <td>2.079442</td>\n",
              "      <td>0.0</td>\n",
              "      <td>1</td>\n",
              "      <td>0</td>\n",
              "      <td>1</td>\n",
              "      <td>0</td>\n",
              "      <td>0</td>\n",
              "      <td>0</td>\n",
              "      <td>0</td>\n",
              "      <td>0</td>\n",
              "      <td>1</td>\n",
              "      <td>0</td>\n",
              "      <td>0</td>\n",
              "      <td>0</td>\n",
              "      <td>0</td>\n",
              "      <td>1</td>\n",
              "      <td>3</td>\n",
              "      <td>1</td>\n",
              "      <td>0</td>\n",
              "      <td>0</td>\n",
              "      <td>0</td>\n",
              "      <td>0</td>\n",
              "      <td>0</td>\n",
              "      <td>0</td>\n",
              "      <td>0</td>\n",
              "      <td>0</td>\n",
              "      <td>2</td>\n",
              "      <td>21</td>\n",
              "      <td>3</td>\n",
              "    </tr>\n",
              "  </tbody>\n",
              "</table>\n",
              "</div>"
            ],
            "text/plain": [
              "   enrollee_id  city_development_index  ...  experience  last_new_job\n",
              "0         8949                   0.920  ...          21             0\n",
              "1        29725                   0.776  ...           6             4\n",
              "2        11561                   0.624  ...          15             5\n",
              "3        33241                   0.789  ...          20             5\n",
              "4          666                   0.767  ...          21             3\n",
              "\n",
              "[5 rows x 31 columns]"
            ]
          },
          "metadata": {
            "tags": []
          },
          "execution_count": 18
        }
      ]
    },
    {
      "cell_type": "code",
      "metadata": {
        "colab": {
          "base_uri": "https://localhost:8080/",
          "height": 441
        },
        "id": "Psu_o0hhiQAD",
        "outputId": "c7040463-3442-4644-ef04-87a7a5635093"
      },
      "source": [
        "plt.figure(figsize=(10,5))\n",
        "sns.countplot(train_df['target'],palette='RdPu_r')\n",
        "plt.xlabel('Target',size=10)"
      ],
      "execution_count": null,
      "outputs": [
        {
          "output_type": "stream",
          "text": [
            "/usr/local/lib/python3.6/dist-packages/seaborn/_decorators.py:43: FutureWarning:\n",
            "\n",
            "Pass the following variable as a keyword arg: x. From version 0.12, the only valid positional argument will be `data`, and passing other arguments without an explicit keyword will result in an error or misinterpretation.\n",
            "\n"
          ],
          "name": "stderr"
        },
        {
          "output_type": "execute_result",
          "data": {
            "text/plain": [
              "Text(0.5, 0, 'Target')"
            ]
          },
          "metadata": {
            "tags": []
          },
          "execution_count": 19
        },
        {
          "output_type": "display_data",
          "data": {
            "image/png": "[encoded data removed]",
            "text/plain": [
              "<Figure size 720x360 with 1 Axes>"
            ]
          },
          "metadata": {
            "tags": [],
            "needs_background": "light"
          }
        }
      ]
    },
    {
      "cell_type": "markdown",
      "metadata": {
        "id": "hzHD3k_pk7u3"
      },
      "source": [
        "### From the above plot we can see Imbalanced dataset. In which 14000 rows contains 1's & approx 5000 contains 0's.\n",
        "## I will balance the dataset first, because without balancing it will lead the model to Overfitting."
      ]
    },
    {
      "cell_type": "markdown",
      "metadata": {
        "id": "ihprcN0L0PFY"
      },
      "source": [
        "## Change the datatype of 'city_development_index' & training_hours to integer by multiply by 10"
      ]
    },
    {
      "cell_type": "code",
      "metadata": {
        "id": "2D9Vr7bZrnp1"
      },
      "source": [
        "train_df['city_development_index']= train_df['city_development_index']*10\n",
        "train_df['city_development_index'] = train_df['city_development_index'].astype('int')\n",
        "\n",
        "train_df['training_hours']= train_df['training_hours']*10\n",
        "train_df['training_hours'] = train_df['training_hours'].astype('int')\n",
        "\n",
        "# Convert datatype of target column\n",
        "train_df['target'] = train_df['target'].astype('int')"
      ],
      "execution_count": null,
      "outputs": []
    },
    {
      "cell_type": "code",
      "metadata": {
        "colab": {
          "base_uri": "https://localhost:8080/",
          "height": 148
        },
        "id": "RnCdE9rCq2tW",
        "outputId": "84b0a835-b360-4020-8d8d-ae2d17822645"
      },
      "source": [
        "train_df.head(2)"
      ],
      "execution_count": null,
      "outputs": [
        {
          "output_type": "execute_result",
          "data": {
            "text/html": [
              "<div>\n",
              "<style scoped>\n",
              "    .dataframe tbody tr th:only-of-type {\n",
              "        vertical-align: middle;\n",
              "    }\n",
              "\n",
              "    .dataframe tbody tr th {\n",
              "        vertical-align: top;\n",
              "    }\n",
              "\n",
              "    .dataframe thead th {\n",
              "        text-align: right;\n",
              "    }\n",
              "</style>\n",
              "<table border=\"1\" class=\"dataframe\">\n",
              "  <thead>\n",
              "    <tr style=\"text-align: right;\">\n",
              "      <th></th>\n",
              "      <th>enrollee_id</th>\n",
              "      <th>city_development_index</th>\n",
              "      <th>training_hours</th>\n",
              "      <th>target</th>\n",
              "      <th>gender_Male</th>\n",
              "      <th>gender_Other</th>\n",
              "      <th>company_type_Funded Startup</th>\n",
              "      <th>company_type_NGO</th>\n",
              "      <th>company_type_Other</th>\n",
              "      <th>company_type_Public Sector</th>\n",
              "      <th>company_type_Pvt Ltd</th>\n",
              "      <th>enrolled_university_Part time course</th>\n",
              "      <th>enrolled_university_no_enrollment</th>\n",
              "      <th>major_discipline_Business Degree</th>\n",
              "      <th>major_discipline_Humanities</th>\n",
              "      <th>major_discipline_No Major</th>\n",
              "      <th>major_discipline_Other</th>\n",
              "      <th>major_discipline_STEM</th>\n",
              "      <th>company_size_labels</th>\n",
              "      <th>col_0</th>\n",
              "      <th>col_1</th>\n",
              "      <th>col_2</th>\n",
              "      <th>col_3</th>\n",
              "      <th>col_4</th>\n",
              "      <th>col_5</th>\n",
              "      <th>col_6</th>\n",
              "      <th>col_7</th>\n",
              "      <th>relevent_experience</th>\n",
              "      <th>education_level</th>\n",
              "      <th>experience</th>\n",
              "      <th>last_new_job</th>\n",
              "    </tr>\n",
              "  </thead>\n",
              "  <tbody>\n",
              "    <tr>\n",
              "      <th>0</th>\n",
              "      <td>8949</td>\n",
              "      <td>9</td>\n",
              "      <td>35</td>\n",
              "      <td>1.0</td>\n",
              "      <td>1</td>\n",
              "      <td>0</td>\n",
              "      <td>0</td>\n",
              "      <td>0</td>\n",
              "      <td>0</td>\n",
              "      <td>0</td>\n",
              "      <td>1</td>\n",
              "      <td>0</td>\n",
              "      <td>1</td>\n",
              "      <td>0</td>\n",
              "      <td>0</td>\n",
              "      <td>0</td>\n",
              "      <td>0</td>\n",
              "      <td>1</td>\n",
              "      <td>3</td>\n",
              "      <td>0</td>\n",
              "      <td>1</td>\n",
              "      <td>0</td>\n",
              "      <td>0</td>\n",
              "      <td>0</td>\n",
              "      <td>0</td>\n",
              "      <td>0</td>\n",
              "      <td>0</td>\n",
              "      <td>0</td>\n",
              "      <td>0</td>\n",
              "      <td>21</td>\n",
              "      <td>0</td>\n",
              "    </tr>\n",
              "    <tr>\n",
              "      <th>1</th>\n",
              "      <td>29725</td>\n",
              "      <td>7</td>\n",
              "      <td>38</td>\n",
              "      <td>0.0</td>\n",
              "      <td>1</td>\n",
              "      <td>0</td>\n",
              "      <td>0</td>\n",
              "      <td>0</td>\n",
              "      <td>0</td>\n",
              "      <td>0</td>\n",
              "      <td>1</td>\n",
              "      <td>0</td>\n",
              "      <td>1</td>\n",
              "      <td>0</td>\n",
              "      <td>0</td>\n",
              "      <td>0</td>\n",
              "      <td>0</td>\n",
              "      <td>1</td>\n",
              "      <td>3</td>\n",
              "      <td>0</td>\n",
              "      <td>0</td>\n",
              "      <td>0</td>\n",
              "      <td>0</td>\n",
              "      <td>0</td>\n",
              "      <td>0</td>\n",
              "      <td>1</td>\n",
              "      <td>0</td>\n",
              "      <td>1</td>\n",
              "      <td>0</td>\n",
              "      <td>6</td>\n",
              "      <td>4</td>\n",
              "    </tr>\n",
              "  </tbody>\n",
              "</table>\n",
              "</div>"
            ],
            "text/plain": [
              "   enrollee_id  city_development_index  ...  experience  last_new_job\n",
              "0         8949                       9  ...          21             0\n",
              "1        29725                       7  ...           6             4\n",
              "\n",
              "[2 rows x 31 columns]"
            ]
          },
          "metadata": {
            "tags": []
          },
          "execution_count": 24
        }
      ]
    },
    {
      "cell_type": "code",
      "metadata": {
        "id": "5i8aTo0xtN-s"
      },
      "source": [
        "# Make X & y\n",
        "X= train_df.drop(labels= ['target', 'enrollee_id'],axis=1)\n",
        "y= train_df['target'] "
      ],
      "execution_count": null,
      "outputs": []
    },
    {
      "cell_type": "markdown",
      "metadata": {
        "id": "3XUzmNaX2rlv"
      },
      "source": [
        "## Balancing the dataset using SMOTE"
      ]
    },
    {
      "cell_type": "code",
      "metadata": {
        "colab": {
          "base_uri": "https://localhost:8080/"
        },
        "id": "PTggr-SO1Uy2",
        "outputId": "345113e2-60c4-4c7b-a7f0-6dd33028fc1f"
      },
      "source": [
        "from imblearn.over_sampling import SMOTE\n",
        "from collections import Counter\n",
        "X= train_df.drop(labels= ['target', 'enrollee_id'],axis=1)\n",
        "y= train_df['target'] \n",
        "\n",
        "counter = Counter(y)\n",
        "print('Before: ',counter)\n",
        "\n",
        "# Oversampling the train dataset using SMOTE\n",
        "smt = SMOTE()\n",
        "new_X, new_y = smt.fit_resample(X,y)\n",
        "\n",
        "counter = Counter(new_y)\n",
        "print('After: ',counter)"
      ],
      "execution_count": null,
      "outputs": [
        {
          "output_type": "stream",
          "text": [
            "Before:  Counter({0: 14216, 1: 4718})\n"
          ],
          "name": "stdout"
        },
        {
          "output_type": "stream",
          "text": [
            "/usr/local/lib/python3.6/dist-packages/sklearn/utils/deprecation.py:87: FutureWarning:\n",
            "\n",
            "Function safe_indexing is deprecated; safe_indexing is deprecated in version 0.22 and will be removed in version 0.24.\n",
            "\n"
          ],
          "name": "stderr"
        },
        {
          "output_type": "stream",
          "text": [
            "After:  Counter({1: 14216, 0: 14216})\n"
          ],
          "name": "stdout"
        }
      ]
    },
    {
      "cell_type": "code",
      "metadata": {
        "colab": {
          "base_uri": "https://localhost:8080/"
        },
        "id": "e2Ogl-o42RxV",
        "outputId": "60c301ca-bd25-4049-fc37-c7db9fdebda1"
      },
      "source": [
        "print(new_X.shape,new_y.shape)"
      ],
      "execution_count": null,
      "outputs": [
        {
          "output_type": "stream",
          "text": [
            "(28432, 29) (28432,)\n"
          ],
          "name": "stdout"
        }
      ]
    },
    {
      "cell_type": "code",
      "metadata": {
        "colab": {
          "base_uri": "https://localhost:8080/",
          "height": 372
        },
        "id": "xAb_hr2m2bpx",
        "outputId": "5f0fef25-77e1-48fd-8b15-9ce6b2e93c04"
      },
      "source": [
        "sns.countplot(new_y)"
      ],
      "execution_count": null,
      "outputs": [
        {
          "output_type": "stream",
          "text": [
            "/usr/local/lib/python3.6/dist-packages/seaborn/_decorators.py:43: FutureWarning:\n",
            "\n",
            "Pass the following variable as a keyword arg: x. From version 0.12, the only valid positional argument will be `data`, and passing other arguments without an explicit keyword will result in an error or misinterpretation.\n",
            "\n"
          ],
          "name": "stderr"
        },
        {
          "output_type": "execute_result",
          "data": {
            "text/plain": [
              "<matplotlib.axes._subplots.AxesSubplot at 0x7f70e3e1d3c8>"
            ]
          },
          "metadata": {
            "tags": []
          },
          "execution_count": 28
        },
        {
          "output_type": "display_data",
          "data": {
            "image/png": "[encoded data removed]",
            "text/plain": [
              "<Figure size 432x288 with 1 Axes>"
            ]
          },
          "metadata": {
            "tags": [],
            "needs_background": "light"
          }
        }
      ]
    },
    {
      "cell_type": "markdown",
      "metadata": {
        "id": "GfOkLEro2kPZ"
      },
      "source": [
        "## From the above plot we can see data is perfectly balanced"
      ]
    },
    {
      "cell_type": "markdown",
      "metadata": {
        "id": "OWBDj1otn5pu"
      },
      "source": [
        "## Split the dataset into Training set and Test set"
      ]
    },
    {
      "cell_type": "code",
      "metadata": {
        "colab": {
          "base_uri": "https://localhost:8080/"
        },
        "id": "Pek5pCxCm9vl",
        "outputId": "7cff5e2e-f650-4683-e322-e2767ed0e81a"
      },
      "source": [
        "from sklearn.model_selection import train_test_split\n",
        "\n",
        "\n",
        "x_train,x_test,y_train,y_test = train_test_split(new_X ,new_y ,test_size=0.25,random_state=1)\n",
        "\n",
        "print(\"Size of train set\", x_train.shape,y_train.shape)\n",
        "print(\"Size of test set\", x_test.shape,y_test.shape)"
      ],
      "execution_count": null,
      "outputs": [
        {
          "output_type": "stream",
          "text": [
            "Size of train set (21324, 29) (21324,)\n",
            "Size of test set (7108, 29) (7108,)\n"
          ],
          "name": "stdout"
        }
      ]
    },
    {
      "cell_type": "markdown",
      "metadata": {
        "id": "S8J7PYv9i9X_"
      },
      "source": [
        "## Pre-Processing the training & test set"
      ]
    },
    {
      "cell_type": "code",
      "metadata": {
        "id": "gBvE6zCkyqVO"
      },
      "source": [
        "\n",
        "\n",
        "from sklearn.preprocessing import StandardScaler\n",
        "scaler = StandardScaler()\n",
        "x_train = scaler.fit_transform(x_train)\n",
        "\n",
        "x_test = scaler.transform(x_test)"
      ],
      "execution_count": null,
      "outputs": []
    },
    {
      "cell_type": "code",
      "metadata": {
        "id": "KST2x7ojjiG_"
      },
      "source": [
        "pd.DataFrame(x_train).dtypes"
      ],
      "execution_count": null,
      "outputs": []
    },
    {
      "cell_type": "markdown",
      "metadata": {
        "id": "9x4VQaCA1gV7"
      },
      "source": [
        "## Finding the Accuracy of training set using different model"
      ]
    },
    {
      "cell_type": "code",
      "metadata": {
        "colab": {
          "base_uri": "https://localhost:8080/"
        },
        "id": "-axC6ZH2lj8t",
        "outputId": "fcd2965f-9783-4164-b9a2-a3cd66d8ee9c"
      },
      "source": [
        "# Import functions to compute accuracy and split data\n",
        "\n",
        "from sklearn.metrics import accuracy_score\n",
        "from sklearn.model_selection import train_test_split\n",
        "\n",
        "# Import models, including VotingClassifier meta-model\n",
        "\n",
        "from sklearn.linear_model import LogisticRegression\n",
        "from sklearn.tree import DecisionTreeClassifier\n",
        "from sklearn.neighbors import KNeighborsClassifier as KNN\n",
        "from sklearn.svm import SVC\n",
        "from sklearn.ensemble import RandomForestClassifier\n",
        "\n",
        "\n",
        "# Set seed for reproducibility\n",
        "SEED = 1\n",
        "\n",
        "\n",
        "# Instantiate individual classifiers\n",
        "\n",
        "classifier = LogisticRegression(random_state=SEED)\n",
        "knn = KNN()\n",
        "dt = DecisionTreeClassifier(criterion = 'entropy', random_state=SEED)\n",
        "svm_class= SVC(kernel='rbf',random_state=SEED)\n",
        "RF_classifier = RandomForestClassifier(n_estimators = 10, criterion = 'entropy', random_state = 0)\n",
        "\n",
        "# Define a list called classifier that contains the tuples (classifier_name, classifier)\n",
        "\n",
        "classifiers = [('Logistic Regression', classifier), ('K Nearest Neighbours', knn), ('Classification Tree', dt),('SVM_Classifier', svm_class),\n",
        "               ('Random_Forest', RF_classifier)]\n",
        "\n",
        "# Iterate over the defined list of tuples containing the classifiers\n",
        "\n",
        "for clf_name, clf in classifiers:\n",
        "    \n",
        "    #fit clf to the training set\n",
        "    clf.fit(x_train, y_train)\n",
        "    \n",
        "    # Predict the labels of the training set\n",
        "    x_pred = clf.predict(x_train)\n",
        "    \n",
        "    # Predicting the labels of the test set\n",
        "    y_pred = clf.predict(x_test)\n",
        "    \n",
        "    # Evaluate the accuracy of clf on the test set\n",
        "    print('{:s} training set accuracy : {:.3f}'.format(clf_name, accuracy_score(y_train,x_pred)))\n",
        "    print('{:s} test set accuracy : {:.3f}'.format(clf_name, accuracy_score(y_test,y_pred)))"
      ],
      "execution_count": null,
      "outputs": [
        {
          "output_type": "stream",
          "text": [
            "Logistic Regression training set accuracy : 0.792\n",
            "Logistic Regression test set accuracy : 0.792\n",
            "K Nearest Neighbours training set accuracy : 0.857\n",
            "K Nearest Neighbours test set accuracy : 0.795\n",
            "Classification Tree training set accuracy : 0.990\n",
            "Classification Tree test set accuracy : 0.788\n",
            "SVM_Classifier training set accuracy : 0.809\n",
            "SVM_Classifier test set accuracy : 0.805\n",
            "Random_Forest training set accuracy : 0.979\n",
            "Random_Forest test set accuracy : 0.823\n"
          ],
          "name": "stdout"
        }
      ]
    },
    {
      "cell_type": "markdown",
      "metadata": {
        "id": "Jx4H-v0kbbOC"
      },
      "source": [
        "## From the above we can see Random Forest gives the Maximum training set & test set accuracy buy there is Overfitting in the model."
      ]
    },
    {
      "cell_type": "markdown",
      "metadata": {
        "id": "-k_7RaAcY0xD"
      },
      "source": [
        "## Grid Search CV for Decision Tree"
      ]
    },
    {
      "cell_type": "code",
      "metadata": {
        "colab": {
          "base_uri": "https://localhost:8080/"
        },
        "id": "gd6E3N7DY3so",
        "outputId": "dc15cdd5-412b-437c-ec5f-be23c095d843"
      },
      "source": [
        "from sklearn.model_selection import GridSearchCV\n",
        "from sklearn.tree import DecisionTreeClassifier\n",
        "\n",
        "dc= DecisionTreeClassifier()\n",
        "\n",
        "param_dict= {'criterion': ['gini', 'entropy'], 'max_depth' : range(1,20), \"min_samples_split\" : range(1,10),\n",
        "             'min_samples_leaf' : range(1,5)}\n",
        "\n",
        "grid_search = GridSearchCV(estimator = dc, param_grid = param_dict,cv = 10,n_jobs = -1 )\n",
        "grid_search.fit(x_train,y_train)\n",
        "\n",
        "y_pred = grid_search.predict(x_test)\n",
        "# Finding the best parameter\n",
        "print(grid_search.best_params_)\n",
        "\n",
        "# Finding the best estimator\n",
        "print(grid_search.best_estimator_)\n",
        "\n",
        "# Finding the Score\n",
        "\n",
        "print(\"Accuracy of training set:\",  grid_search.best_score_)\n",
        "\n",
        "print('Accuracy Score of test set: ', accuracy_score(y_test,y_pred))"
      ],
      "execution_count": null,
      "outputs": [
        {
          "output_type": "stream",
          "text": [
            "{'criterion': 'entropy', 'max_depth': 15, 'min_samples_leaf': 2, 'min_samples_split': 2}\n",
            "DecisionTreeClassifier(ccp_alpha=0.0, class_weight=None, criterion='entropy',\n",
            "                       max_depth=15, max_features=None, max_leaf_nodes=None,\n",
            "                       min_impurity_decrease=0.0, min_impurity_split=None,\n",
            "                       min_samples_leaf=2, min_samples_split=2,\n",
            "                       min_weight_fraction_leaf=0.0, presort='deprecated',\n",
            "                       random_state=None, splitter='best')\n",
            "Accuracy of training set: 0.7906109347526453\n",
            "Accuracy Score of test set:  0.7862971299943725\n"
          ],
          "name": "stdout"
        }
      ]
    },
    {
      "cell_type": "markdown",
      "metadata": {
        "id": "2oVrcjtr5fg_"
      },
      "source": [
        "## Bagging for Decision Tree"
      ]
    },
    {
      "cell_type": "code",
      "metadata": {
        "colab": {
          "base_uri": "https://localhost:8080/"
        },
        "id": "-rSsyNgs5d0C",
        "outputId": "7df20be8-81ae-4c87-bdd1-aa7b57352954"
      },
      "source": [
        "# Initiate DT Classifer\n",
        "from sklearn import tree\n",
        "from sklearn.tree import DecisionTreeClassifier\n",
        "from sklearn.ensemble import BaggingClassifier\n",
        "from sklearn.metrics import accuracy_score\n",
        "\n",
        "SEED =1\n",
        "\n",
        "\n",
        "\n",
        "dt = DecisionTreeClassifier(criterion='entropy',max_depth= 15,min_samples_leaf= 2,min_samples_split=2 ,random_state=SEED)\n",
        "\n",
        "# Initiate the Bagging classifer\n",
        "\n",
        "bc =  BaggingClassifier(base_estimator= dt, n_estimators=300, n_jobs=-1)\n",
        "\n",
        "# Fit 'bc' to training set\n",
        "bc.fit(x_train,y_train)\n",
        "\n",
        "# Predict test set labels\n",
        "\n",
        "y_pred = bc.predict(x_test)\n",
        "\n",
        "# Predicting the training set\n",
        "\n",
        "X_pred = bc.predict(x_train)\n",
        "\n",
        "# Evaluate & print test set accuracy\n",
        "\n",
        "train_accuracy = accuracy_score(y_train,X_pred)\n",
        "test_accuracy =accuracy_score(y_test,y_pred)\n",
        "\n",
        "print(\"Accuracy of training set of Bagging Classifer : {:.3f}\".format(train_accuracy) )\n",
        "print(\"Accuracy of  test set Bagging Classifer : {:.3f}\".format(test_accuracy))"
      ],
      "execution_count": null,
      "outputs": [
        {
          "output_type": "stream",
          "text": [
            "Accuracy of training set of Bagging Classifer : 0.888\n",
            "Accuracy of  test set Bagging Classifer : 0.817\n"
          ],
          "name": "stdout"
        }
      ]
    },
    {
      "cell_type": "markdown",
      "metadata": {
        "id": "SLch4v7f8YNq"
      },
      "source": [
        "# Bagging classifer with Decision tree gives the 81% Accuracy rate on the Test set"
      ]
    },
    {
      "cell_type": "markdown",
      "metadata": {
        "id": "DohN7A_CKq_k"
      },
      "source": [
        "## Adaboost For Decision Tree"
      ]
    },
    {
      "cell_type": "code",
      "metadata": {
        "colab": {
          "base_uri": "https://localhost:8080/"
        },
        "id": "eAazUnPIKuZI",
        "outputId": "8e2dc796-14a4-4daf-c131-f47a99d212b7"
      },
      "source": [
        "# Import models and utility functions\n",
        "from sklearn.ensemble import AdaBoostClassifier\n",
        "from sklearn import tree\n",
        "from sklearn.tree import DecisionTreeClassifier\n",
        "\n",
        "from sklearn.metrics import roc_auc_score,accuracy_score\n",
        "\n",
        "\n",
        "\n",
        "# Set seed for reproducibility\n",
        "SEED = 1\n",
        "\n",
        "\n",
        "# Instantiate a Decision-tree 'dt'\n",
        "dt =DecisionTreeClassifier(criterion='entropy',max_depth= 15,min_samples_leaf= 2,min_samples_split=2,random_state=SEED)\n",
        "\n",
        "# Instantiate an AdaBoost classifier 'adab_clf'\n",
        "adb_clf = AdaBoostClassifier(base_estimator=dt , n_estimators=500)\n",
        "\n",
        "# Fit 'adb_clf' to the training set\n",
        "adb_clf.fit(x_train, y_train)\n",
        "\n",
        "# Predict the test set probabilities of positive class\n",
        "y_pred_proba = adb_clf.predict_proba(x_test)[:,1]\n",
        "\n",
        "# Evaluate test-set roc_auc_score\n",
        "adb_clf_roc_auc_score = roc_auc_score(y_test, y_pred_proba)\n",
        "\n",
        "# Print adb_clf_roc_auc_score\n",
        "print('ROC AUC score: {:.2f}'.format(adb_clf_roc_auc_score))\n",
        "\n",
        "# Accuracy for Training set\n",
        "print(\"Accuracy Score of Training Set\", accuracy_score(y_train,adb_clf.predict(x_train)))\n",
        "\n",
        "# Accuracy for Test set\n",
        "print(\"Accuracy Score of Test Set\", accuracy_score(y_test,adb_clf.predict(x_test)))\n"
      ],
      "execution_count": null,
      "outputs": [
        {
          "output_type": "stream",
          "text": [
            "ROC AUC score: 0.89\n",
            "Accuracy Score of Training Set 0.990620896642281\n",
            "Accuracy Score of Test Set 0.8242824985931345\n"
          ],
          "name": "stdout"
        }
      ]
    },
    {
      "cell_type": "markdown",
      "metadata": {
        "id": "8YKQSzyx9C9Q"
      },
      "source": [
        "## GridSearch CV in Random Forest "
      ]
    },
    {
      "cell_type": "code",
      "metadata": {
        "colab": {
          "background_save": true
        },
        "id": "kgf7PnQf-CQX",
        "outputId": "035ff36d-bb7a-4a0d-8a2a-83fdb58a345e"
      },
      "source": [
        "from sklearn.model_selection import GridSearchCV\n",
        "rf = RandomForestClassifier()\n",
        "\n",
        "model = RandomForestClassifier(random_state=30,)\n",
        "parameters = { \"n_estimators\"      : [250, 300],\n",
        "           \"criterion\"         : [\"gini\", \"entropy\"],\n",
        "           \n",
        "           \"max_depth\"         : [10, 20],\n",
        "           \"min_samples_split\" : [2, 4] ,\n",
        "           \"max_features\"      : [3, 5],\n",
        "           \"bootstrap\": [True, False]}\n",
        "grid_search = GridSearchCV(estimator= model, param_grid= parameters, scoring='accuracy', n_jobs=-1, cv=10,)\n",
        "\n",
        "grid_search.fit(x_train,y_train)\n",
        "\n",
        "\n",
        "y_pred = grid_search.predict(x_test)\n",
        "\n",
        "best_accuracy = grid_search.best_score_\n",
        "best_parameters = grid_search.best_params_\n",
        "\n",
        "print(\"Best Parameters:\", best_parameters)\n",
        "\n",
        "\n",
        "print(\"Accuracy score of training set \", accuracy_score(y_train,grid_search.predict(x_train)))\n",
        "print('Accuracy of test set :', accuracy_score(y_test,y_pred))"
      ],
      "execution_count": null,
      "outputs": [
        {
          "output_type": "stream",
          "text": [
            "Best Parameters: {'bootstrap': False, 'criterion': 'entropy', 'max_depth': 20, 'max_features': 5, 'min_samples_split': 2, 'n_estimators': 300}\n",
            "Accuracy score of training set  0.9441005439879947\n",
            "Accuracy of test set : 0.8303320202588632\n"
          ],
          "name": "stdout"
        }
      ]
    },
    {
      "cell_type": "markdown",
      "metadata": {
        "id": "xhVZADPfDJtl"
      },
      "source": [
        "## Bagging for RandomForest"
      ]
    },
    {
      "cell_type": "code",
      "metadata": {
        "id": "jAPq1dqsDNt8"
      },
      "source": [
        "# Initiate Random Forest Classifer\n",
        "\n",
        "from sklearn.ensemble import RandomForestClassifier\n",
        "from sklearn.ensemble import BaggingClassifier\n",
        "from sklearn.metrics import accuracy_score\n",
        "\n",
        "SEED =1\n",
        "\n",
        "\n",
        "\n",
        "rf = RandomForestClassifier(criterion='entropy', max_depth= 20, max_features=5,min_samples_split=2,n_estimators=100 ,random_state=SEED)\n",
        "\n",
        "# Initiate the Bagging classifer\n",
        "\n",
        "bc =  BaggingClassifier(base_estimator= rf, n_estimators=100)\n",
        "\n",
        "# Fit 'bc' to training set\n",
        "bc.fit(x_train,y_train)\n",
        "\n",
        "# Predict test set labels\n",
        "\n",
        "y_pred = bc.predict(x_test)\n",
        "\n",
        "# Predicting the training set\n",
        "\n",
        "X_pred = bc.predict(x_train)\n",
        "\n",
        "# Evaluate & print test set accuracy\n",
        "\n",
        "train_accuracy = accuracy_score(y_train,X_pred)\n",
        "test_accuracy =accuracy_score(y_test,y_pred)\n",
        "\n",
        "print(\"Accuracy of training set of Bagging Classifer : {:.3f}\".format(train_accuracy) )\n",
        "print(\"Accuracy of  test set Bagging Classifer : {:.3f}\".format(test_accuracy))"
      ],
      "execution_count": null,
      "outputs": []
    },
    {
      "cell_type": "code",
      "metadata": {
        "id": "tcKfFjhAn5Y2"
      },
      "source": [
        ""
      ],
      "execution_count": null,
      "outputs": []
    },
    {
      "cell_type": "markdown",
      "metadata": {
        "id": "EvVBgFYy5Ndw"
      },
      "source": [
        "## Adaboost for Random Forest based on Hyper-parameter"
      ]
    },
    {
      "cell_type": "code",
      "metadata": {
        "colab": {
          "base_uri": "https://localhost:8080/"
        },
        "id": "dZ93O5Fv5O3J",
        "outputId": "bbb8a792-aacd-412b-a921-f2bc9c98f6f3"
      },
      "source": [
        "# Import models and utility functions\n",
        "from sklearn.ensemble import AdaBoostClassifier\n",
        "from sklearn.ensemble import RandomForestClassifier\n",
        "from sklearn.tree import DecisionTreeClassifier\n",
        "from sklearn.metrics import roc_auc_score,accuracy_score\n",
        "\n",
        "\n",
        "\n",
        "# Set seed for reproducibility\n",
        "SEED = 1\n",
        "\n",
        "\n",
        "# Instantiate a RF-tree 'dt'\n",
        "rf =RandomForestClassifier(criterion='entropy', max_depth= 20, max_features=5,min_samples_split=2,n_estimators=100,random_state=SEED)\n",
        "\n",
        "# Instantiate an AdaBoost classifier 'adab_clf'\n",
        "adb_clf = AdaBoostClassifier(base_estimator=rf , n_estimators=150)\n",
        "\n",
        "# Fit 'adb_clf' to the training set\n",
        "adb_clf.fit(x_train, y_train)\n",
        "\n",
        "# Predict the test set probabilities of positive class\n",
        "y_pred_proba = adb_clf.predict_proba(x_test)[:,1]\n",
        "\n",
        "# Evaluate test-set roc_auc_score\n",
        "adb_clf_roc_auc_score = roc_auc_score(y_test, y_pred_proba)\n",
        "\n",
        "# Print adb_clf_roc_auc_score\n",
        "print('ROC AUC score of Test set: {:.2f}'.format(adb_clf_roc_auc_score))\n",
        "\n",
        "\n",
        "# Test Set Score\n",
        "print(\"Accuracy Score of Test Set\", accuracy_score(y_test,adb_clf.predict(x_test)))"
      ],
      "execution_count": null,
      "outputs": [
        {
          "output_type": "stream",
          "text": [
            "ROC AUC score: 0.91\n",
            "Accuracy Score of Training Set 0.9904333145751266\n",
            "Accuracy Score of Test Set 0.8368036015756893\n"
          ],
          "name": "stdout"
        }
      ]
    },
    {
      "cell_type": "markdown",
      "metadata": {
        "id": "A-1I98pmBCcz"
      },
      "source": [
        "## AdaBoost give the Maximum ROC-AUC-Score == 91% \n",
        "## And Accuracy Score 83%"
      ]
    },
    {
      "cell_type": "code",
      "metadata": {
        "id": "lCPwXELYxy_o"
      },
      "source": [
        ""
      ],
      "execution_count": null,
      "outputs": []
    },
    {
      "cell_type": "markdown",
      "metadata": {
        "id": "Udh_msjEVRBT"
      },
      "source": [
        "# Predicting the test set data"
      ]
    },
    {
      "cell_type": "markdown",
      "metadata": {
        "id": "KLiEW7ifVWSH"
      },
      "source": [
        "### Load the Test set data"
      ]
    },
    {
      "cell_type": "code",
      "metadata": {
        "id": "wfEo-XIs8FEi",
        "colab": {
          "base_uri": "https://localhost:8080/",
          "height": 292
        },
        "outputId": "4f0cd9a5-dc87-4c5e-8977-71e23a74d69b"
      },
      "source": [
        " df_test = pd.read_csv(\"/content/aug_test.csv\")\n",
        " df_test.head()"
      ],
      "execution_count": null,
      "outputs": [
        {
          "output_type": "execute_result",
          "data": {
            "text/html": [
              "<div>\n",
              "<style scoped>\n",
              "    .dataframe tbody tr th:only-of-type {\n",
              "        vertical-align: middle;\n",
              "    }\n",
              "\n",
              "    .dataframe tbody tr th {\n",
              "        vertical-align: top;\n",
              "    }\n",
              "\n",
              "    .dataframe thead th {\n",
              "        text-align: right;\n",
              "    }\n",
              "</style>\n",
              "<table border=\"1\" class=\"dataframe\">\n",
              "  <thead>\n",
              "    <tr style=\"text-align: right;\">\n",
              "      <th></th>\n",
              "      <th>enrollee_id</th>\n",
              "      <th>city</th>\n",
              "      <th>city_development_index</th>\n",
              "      <th>gender</th>\n",
              "      <th>relevent_experience</th>\n",
              "      <th>enrolled_university</th>\n",
              "      <th>education_level</th>\n",
              "      <th>major_discipline</th>\n",
              "      <th>experience</th>\n",
              "      <th>company_size</th>\n",
              "      <th>company_type</th>\n",
              "      <th>last_new_job</th>\n",
              "      <th>training_hours</th>\n",
              "    </tr>\n",
              "  </thead>\n",
              "  <tbody>\n",
              "    <tr>\n",
              "      <th>0</th>\n",
              "      <td>32403</td>\n",
              "      <td>city_41</td>\n",
              "      <td>0.827</td>\n",
              "      <td>Male</td>\n",
              "      <td>Has relevent experience</td>\n",
              "      <td>Full time course</td>\n",
              "      <td>Graduate</td>\n",
              "      <td>STEM</td>\n",
              "      <td>9</td>\n",
              "      <td>&lt;10</td>\n",
              "      <td>NaN</td>\n",
              "      <td>1</td>\n",
              "      <td>21</td>\n",
              "    </tr>\n",
              "    <tr>\n",
              "      <th>1</th>\n",
              "      <td>9858</td>\n",
              "      <td>city_103</td>\n",
              "      <td>0.920</td>\n",
              "      <td>Female</td>\n",
              "      <td>Has relevent experience</td>\n",
              "      <td>no_enrollment</td>\n",
              "      <td>Graduate</td>\n",
              "      <td>STEM</td>\n",
              "      <td>5</td>\n",
              "      <td>NaN</td>\n",
              "      <td>Pvt Ltd</td>\n",
              "      <td>1</td>\n",
              "      <td>98</td>\n",
              "    </tr>\n",
              "    <tr>\n",
              "      <th>2</th>\n",
              "      <td>31806</td>\n",
              "      <td>city_21</td>\n",
              "      <td>0.624</td>\n",
              "      <td>Male</td>\n",
              "      <td>No relevent experience</td>\n",
              "      <td>no_enrollment</td>\n",
              "      <td>High School</td>\n",
              "      <td>NaN</td>\n",
              "      <td>&lt;1</td>\n",
              "      <td>NaN</td>\n",
              "      <td>Pvt Ltd</td>\n",
              "      <td>never</td>\n",
              "      <td>15</td>\n",
              "    </tr>\n",
              "    <tr>\n",
              "      <th>3</th>\n",
              "      <td>27385</td>\n",
              "      <td>city_13</td>\n",
              "      <td>0.827</td>\n",
              "      <td>Male</td>\n",
              "      <td>Has relevent experience</td>\n",
              "      <td>no_enrollment</td>\n",
              "      <td>Masters</td>\n",
              "      <td>STEM</td>\n",
              "      <td>11</td>\n",
              "      <td>10/49</td>\n",
              "      <td>Pvt Ltd</td>\n",
              "      <td>1</td>\n",
              "      <td>39</td>\n",
              "    </tr>\n",
              "    <tr>\n",
              "      <th>4</th>\n",
              "      <td>27724</td>\n",
              "      <td>city_103</td>\n",
              "      <td>0.920</td>\n",
              "      <td>Male</td>\n",
              "      <td>Has relevent experience</td>\n",
              "      <td>no_enrollment</td>\n",
              "      <td>Graduate</td>\n",
              "      <td>STEM</td>\n",
              "      <td>&gt;20</td>\n",
              "      <td>10000+</td>\n",
              "      <td>Pvt Ltd</td>\n",
              "      <td>&gt;4</td>\n",
              "      <td>72</td>\n",
              "    </tr>\n",
              "  </tbody>\n",
              "</table>\n",
              "</div>"
            ],
            "text/plain": [
              "   enrollee_id      city  ...  last_new_job training_hours\n",
              "0        32403   city_41  ...             1             21\n",
              "1         9858  city_103  ...             1             98\n",
              "2        31806   city_21  ...         never             15\n",
              "3        27385   city_13  ...             1             39\n",
              "4        27724  city_103  ...            >4             72\n",
              "\n",
              "[5 rows x 13 columns]"
            ]
          },
          "metadata": {
            "tags": []
          },
          "execution_count": 60
        }
      ]
    },
    {
      "cell_type": "markdown",
      "metadata": {
        "id": "tb26dzPgVNBE"
      },
      "source": [
        "### Checking for Missing values"
      ]
    },
    {
      "cell_type": "code",
      "metadata": {
        "colab": {
          "base_uri": "https://localhost:8080/"
        },
        "id": "PDXON6D6RIYY",
        "outputId": "f3d327ca-ed38-4a0a-e41a-4728711d4f05"
      },
      "source": [
        "df_test.isnull().sum()"
      ],
      "execution_count": null,
      "outputs": [
        {
          "output_type": "execute_result",
          "data": {
            "text/plain": [
              "enrollee_id                 0\n",
              "city                        0\n",
              "city_development_index      0\n",
              "gender                    508\n",
              "relevent_experience         0\n",
              "enrolled_university        31\n",
              "education_level            52\n",
              "major_discipline          312\n",
              "experience                  5\n",
              "company_size              622\n",
              "company_type              634\n",
              "last_new_job               40\n",
              "training_hours              0\n",
              "dtype: int64"
            ]
          },
          "metadata": {
            "tags": []
          },
          "execution_count": 33
        }
      ]
    },
    {
      "cell_type": "code",
      "metadata": {
        "colab": {
          "base_uri": "https://localhost:8080/"
        },
        "id": "3BJazU0NSeB0",
        "outputId": "8401b04e-9635-4f95-efc2-a5d20adc0da2"
      },
      "source": [
        "df_test.shape"
      ],
      "execution_count": null,
      "outputs": [
        {
          "output_type": "execute_result",
          "data": {
            "text/plain": [
              "(2129, 13)"
            ]
          },
          "metadata": {
            "tags": []
          },
          "execution_count": 34
        }
      ]
    },
    {
      "cell_type": "markdown",
      "metadata": {
        "id": "PaSKF3dRVasI"
      },
      "source": [
        "### Extract Categorical & Numerical Variables"
      ]
    },
    {
      "cell_type": "code",
      "metadata": {
        "id": "O26PZDUFSiWQ"
      },
      "source": [
        "cat_feature = [feature for feature in df_test.columns if df_test[feature].dtypes == 'O']\n",
        "num_feature = [feature for feature in df_test.columns if feature not in cat_feature ]\n",
        "\n"
      ],
      "execution_count": null,
      "outputs": []
    },
    {
      "cell_type": "markdown",
      "metadata": {
        "id": "7OsQefZiUz8e"
      },
      "source": [
        "###  Handling Missing value in test dataset"
      ]
    },
    {
      "cell_type": "code",
      "metadata": {
        "id": "WspGwcKHUXyU"
      },
      "source": [
        "# Replacing all missing values with the column maximum frquency value\n",
        "\n",
        "for feature in cat_feature:\n",
        "  max_freq= df_test[feature].value_counts().index[0]\n",
        "  df_test[feature] = np.where(df_test[feature].isnull(), max_freq, df_test[feature])"
      ],
      "execution_count": null,
      "outputs": []
    },
    {
      "cell_type": "markdown",
      "metadata": {
        "id": "qZ4mGvQyVuSw"
      },
      "source": [
        "### Check Again for NULL values"
      ]
    },
    {
      "cell_type": "code",
      "metadata": {
        "colab": {
          "base_uri": "https://localhost:8080/"
        },
        "id": "ttqUtYOUVIlF",
        "outputId": "a9d26d72-73f1-4a7b-df1c-e4ecc00fc6ec"
      },
      "source": [
        "df_test.isnull().sum()"
      ],
      "execution_count": null,
      "outputs": [
        {
          "output_type": "execute_result",
          "data": {
            "text/plain": [
              "enrollee_id               0\n",
              "city                      0\n",
              "city_development_index    0\n",
              "gender                    0\n",
              "relevent_experience       0\n",
              "enrolled_university       0\n",
              "education_level           0\n",
              "major_discipline          0\n",
              "experience                0\n",
              "company_size              0\n",
              "company_type              0\n",
              "last_new_job              0\n",
              "training_hours            0\n",
              "dtype: int64"
            ]
          },
          "metadata": {
            "tags": []
          },
          "execution_count": 41
        }
      ]
    },
    {
      "cell_type": "markdown",
      "metadata": {
        "id": "SVyZC8H7V5Yb"
      },
      "source": [
        "# Things I will not do with Test dataset\n",
        "### 1. I will not remove Outliers.\n",
        "### 2. No balancing of dataset\n"
      ]
    },
    {
      "cell_type": "code",
      "metadata": {
        "colab": {
          "base_uri": "https://localhost:8080/",
          "height": 292
        },
        "id": "ubiMnXqJVLZQ",
        "outputId": "db4cbfb9-23c3-4ce2-8fd3-9c8ceb2d31c1"
      },
      "source": [
        "df_test.head()"
      ],
      "execution_count": null,
      "outputs": [
        {
          "output_type": "execute_result",
          "data": {
            "text/html": [
              "<div>\n",
              "<style scoped>\n",
              "    .dataframe tbody tr th:only-of-type {\n",
              "        vertical-align: middle;\n",
              "    }\n",
              "\n",
              "    .dataframe tbody tr th {\n",
              "        vertical-align: top;\n",
              "    }\n",
              "\n",
              "    .dataframe thead th {\n",
              "        text-align: right;\n",
              "    }\n",
              "</style>\n",
              "<table border=\"1\" class=\"dataframe\">\n",
              "  <thead>\n",
              "    <tr style=\"text-align: right;\">\n",
              "      <th></th>\n",
              "      <th>enrollee_id</th>\n",
              "      <th>city</th>\n",
              "      <th>city_development_index</th>\n",
              "      <th>gender</th>\n",
              "      <th>relevent_experience</th>\n",
              "      <th>enrolled_university</th>\n",
              "      <th>education_level</th>\n",
              "      <th>major_discipline</th>\n",
              "      <th>experience</th>\n",
              "      <th>company_size</th>\n",
              "      <th>company_type</th>\n",
              "      <th>last_new_job</th>\n",
              "      <th>training_hours</th>\n",
              "    </tr>\n",
              "  </thead>\n",
              "  <tbody>\n",
              "    <tr>\n",
              "      <th>0</th>\n",
              "      <td>32403</td>\n",
              "      <td>city_41</td>\n",
              "      <td>0.827</td>\n",
              "      <td>Male</td>\n",
              "      <td>Has relevent experience</td>\n",
              "      <td>Full time course</td>\n",
              "      <td>Graduate</td>\n",
              "      <td>STEM</td>\n",
              "      <td>9</td>\n",
              "      <td>&lt;10</td>\n",
              "      <td>Pvt Ltd</td>\n",
              "      <td>1</td>\n",
              "      <td>21</td>\n",
              "    </tr>\n",
              "    <tr>\n",
              "      <th>1</th>\n",
              "      <td>9858</td>\n",
              "      <td>city_103</td>\n",
              "      <td>0.920</td>\n",
              "      <td>Female</td>\n",
              "      <td>Has relevent experience</td>\n",
              "      <td>no_enrollment</td>\n",
              "      <td>Graduate</td>\n",
              "      <td>STEM</td>\n",
              "      <td>5</td>\n",
              "      <td>50-99</td>\n",
              "      <td>Pvt Ltd</td>\n",
              "      <td>1</td>\n",
              "      <td>98</td>\n",
              "    </tr>\n",
              "    <tr>\n",
              "      <th>2</th>\n",
              "      <td>31806</td>\n",
              "      <td>city_21</td>\n",
              "      <td>0.624</td>\n",
              "      <td>Male</td>\n",
              "      <td>No relevent experience</td>\n",
              "      <td>no_enrollment</td>\n",
              "      <td>High School</td>\n",
              "      <td>STEM</td>\n",
              "      <td>&lt;1</td>\n",
              "      <td>50-99</td>\n",
              "      <td>Pvt Ltd</td>\n",
              "      <td>never</td>\n",
              "      <td>15</td>\n",
              "    </tr>\n",
              "    <tr>\n",
              "      <th>3</th>\n",
              "      <td>27385</td>\n",
              "      <td>city_13</td>\n",
              "      <td>0.827</td>\n",
              "      <td>Male</td>\n",
              "      <td>Has relevent experience</td>\n",
              "      <td>no_enrollment</td>\n",
              "      <td>Masters</td>\n",
              "      <td>STEM</td>\n",
              "      <td>11</td>\n",
              "      <td>10/49</td>\n",
              "      <td>Pvt Ltd</td>\n",
              "      <td>1</td>\n",
              "      <td>39</td>\n",
              "    </tr>\n",
              "    <tr>\n",
              "      <th>4</th>\n",
              "      <td>27724</td>\n",
              "      <td>city_103</td>\n",
              "      <td>0.920</td>\n",
              "      <td>Male</td>\n",
              "      <td>Has relevent experience</td>\n",
              "      <td>no_enrollment</td>\n",
              "      <td>Graduate</td>\n",
              "      <td>STEM</td>\n",
              "      <td>&gt;20</td>\n",
              "      <td>10000+</td>\n",
              "      <td>Pvt Ltd</td>\n",
              "      <td>&gt;4</td>\n",
              "      <td>72</td>\n",
              "    </tr>\n",
              "  </tbody>\n",
              "</table>\n",
              "</div>"
            ],
            "text/plain": [
              "   enrollee_id      city  ...  last_new_job training_hours\n",
              "0        32403   city_41  ...             1             21\n",
              "1         9858  city_103  ...             1             98\n",
              "2        31806   city_21  ...         never             15\n",
              "3        27385   city_13  ...             1             39\n",
              "4        27724  city_103  ...            >4             72\n",
              "\n",
              "[5 rows x 13 columns]"
            ]
          },
          "metadata": {
            "tags": []
          },
          "execution_count": 42
        }
      ]
    },
    {
      "cell_type": "code",
      "metadata": {
        "colab": {
          "base_uri": "https://localhost:8080/"
        },
        "id": "Ju01bcuMYtyn",
        "outputId": "69a9506f-747e-4b59-f987-33730dcc1881"
      },
      "source": [
        "df_test['company_size'].value_counts()"
      ],
      "execution_count": null,
      "outputs": [
        {
          "output_type": "execute_result",
          "data": {
            "text/plain": [
              "50-99        960\n",
              "100-500      318\n",
              "10000+       217\n",
              "10/49        172\n",
              "<10          163\n",
              "1000-4999    143\n",
              "500-999       88\n",
              "5000-9999     68\n",
              "Name: company_size, dtype: int64"
            ]
          },
          "metadata": {
            "tags": []
          },
          "execution_count": 47
        }
      ]
    },
    {
      "cell_type": "markdown",
      "metadata": {
        "id": "wxSuiQ-VY1Wf"
      },
      "source": [
        "## Feature Engineering of Test dataset"
      ]
    },
    {
      "cell_type": "code",
      "metadata": {
        "id": "axObB9irWNru"
      },
      "source": [
        "# Handling company_size columns\n",
        "orders = {'50-99' : 3, '100-500': 4, '10000+' : 8, '10/49' : 2, '1000-4999' : 6, '<10' : 1, '500-999':5,\n",
        "         '5000-9999' : 7}\n",
        "\n",
        "df_test['company_size_labels'] = df_test['company_size'].map(orders)\n",
        "\n",
        "# Remove comapny_size from the dataset\n",
        "\n",
        "df_test = df_test.drop(columns=['company_size'])"
      ],
      "execution_count": null,
      "outputs": []
    },
    {
      "cell_type": "markdown",
      "metadata": {
        "id": "YfwrpNOFZ_pu"
      },
      "source": [
        "### Hash Encoding"
      ]
    },
    {
      "cell_type": "code",
      "metadata": {
        "colab": {
          "base_uri": "https://localhost:8080/"
        },
        "id": "XtlIf_nkZ3Jc",
        "outputId": "883d3c4a-1fd6-4722-f7bc-ad3194c708cd"
      },
      "source": [
        "# Hash Encoding for 'City'\n",
        "\n",
        "import category_encoders as cat_encoders\n",
        "\n",
        "city_encoder = cat_encoders.HashingEncoder(cols=['city'])\n",
        "\n",
        "city_test = city_encoder.fit_transform(df_test['city'])\n",
        "\n",
        "df_2 =df_test.drop(columns=['city'])\n",
        "\n",
        "new_df_test = pd.concat([df_2, city_test],axis=1)"
      ],
      "execution_count": null,
      "outputs": [
        {
          "output_type": "stream",
          "text": [
            "/usr/local/lib/python3.6/dist-packages/category_encoders/utils.py:21: FutureWarning:\n",
            "\n",
            "is_categorical is deprecated and will be removed in a future version.  Use is_categorical_dtype instead\n",
            "\n"
          ],
          "name": "stderr"
        }
      ]
    },
    {
      "cell_type": "markdown",
      "metadata": {
        "id": "WldMVKz4bone"
      },
      "source": [
        "### Dummy Encoding"
      ]
    },
    {
      "cell_type": "code",
      "metadata": {
        "id": "DdsU3-uYa8Cr"
      },
      "source": [
        "# Dummy Encoding\n",
        "\n",
        "new_df_test= pd.get_dummies(data= new_df_test,columns=['gender','company_type', 'enrolled_university', 'major_discipline'],drop_first=True,)\n"
      ],
      "execution_count": null,
      "outputs": []
    },
    {
      "cell_type": "markdown",
      "metadata": {
        "id": "uWEq-woBb_W9"
      },
      "source": [
        "### Ordinal Encoding"
      ]
    },
    {
      "cell_type": "code",
      "metadata": {
        "colab": {
          "base_uri": "https://localhost:8080/"
        },
        "id": "5cKRVQ-NbYHB",
        "outputId": "9bef4d78-33ad-4966-8739-f86080189e98"
      },
      "source": [
        "## Ordinal features =   relevent experience,education_level, experience, last_new_job\n",
        "\n",
        "from sklearn.preprocessing import LabelEncoder as le\n",
        "from collections import defaultdict\n",
        "d = defaultdict(le)\n",
        "\n",
        "ordinal_df_test = new_df_test[['relevent_experience','education_level','experience','last_new_job']].apply(lambda x: d[x.name].fit_transform(x),axis=0)\n",
        "\n",
        "# Remove ordinal features from original dataset\n",
        "\n",
        "\n",
        "new_df_test= new_df_test.drop(columns=['relevent_experience', 'education_level', 'experience', 'last_new_job'])\n",
        "# Add to dataframe\n",
        "test_df= pd.concat([new_df_test,ordinal_df_test],axis=1)\n",
        "\n",
        "test_df.columns"
      ],
      "execution_count": null,
      "outputs": [
        {
          "output_type": "execute_result",
          "data": {
            "text/plain": [
              "Index(['enrollee_id', 'city_development_index', 'training_hours',\n",
              "       'company_size_labels', 'col_0', 'col_1', 'col_2', 'col_3', 'col_4',\n",
              "       'col_5', 'col_6', 'col_7', 'gender_Male', 'gender_Other',\n",
              "       'company_type_Funded Startup', 'company_type_NGO', 'company_type_Other',\n",
              "       'company_type_Public Sector', 'company_type_Pvt Ltd',\n",
              "       'enrolled_university_Part time course',\n",
              "       'enrolled_university_no_enrollment', 'major_discipline_Business Degree',\n",
              "       'major_discipline_Humanities', 'major_discipline_No Major',\n",
              "       'major_discipline_Other', 'major_discipline_STEM',\n",
              "       'relevent_experience', 'education_level', 'experience', 'last_new_job'],\n",
              "      dtype='object')"
            ]
          },
          "metadata": {
            "tags": []
          },
          "execution_count": 66
        }
      ]
    },
    {
      "cell_type": "markdown",
      "metadata": {
        "id": "9RKx1KDvdIyL"
      },
      "source": [
        "### Change the datatype of 'city_development_index'"
      ]
    },
    {
      "cell_type": "code",
      "metadata": {
        "id": "mbGq19OIc0T2"
      },
      "source": [
        "test_df['city_development_index']= test_df['city_development_index']*10\n",
        "test_df['city_development_index'] = test_df['city_development_index'].astype('int')\n",
        "\n"
      ],
      "execution_count": null,
      "outputs": []
    },
    {
      "cell_type": "markdown",
      "metadata": {
        "id": "-O5eFADpgiOY"
      },
      "source": [
        "## Remove & Save Enrollee_id "
      ]
    },
    {
      "cell_type": "code",
      "metadata": {
        "id": "UUrWN4edgpUa"
      },
      "source": [
        "id = test_df['enrollee_id']\n",
        "test_df = test_df.drop(['enrollee_id'],axis=1)\n"
      ],
      "execution_count": null,
      "outputs": []
    },
    {
      "cell_type": "markdown",
      "metadata": {
        "id": "pZP8WkAZecVU"
      },
      "source": [
        "### Standarize the Test dataset based on the training set"
      ]
    },
    {
      "cell_type": "code",
      "metadata": {
        "id": "-IansKKMdV0o"
      },
      "source": [
        "# Scalrize the Test set based on the training set\n",
        "\n",
        "transform_df = scaler.transform(test_df)"
      ],
      "execution_count": null,
      "outputs": []
    },
    {
      "cell_type": "markdown",
      "metadata": {
        "id": "-ShMI_ms_Q8E"
      },
      "source": [
        "## Predicting the test set probablity based on AdaBoost (Random Forest Classifer)"
      ]
    },
    {
      "cell_type": "code",
      "metadata": {
        "id": "P9R_mLWphk0F"
      },
      "source": [
        "# Predict the test set probabilities \n",
        "\n",
        "y_pred_proba_test = adb_clf.predict_proba(transform_df)[:,1]\n",
        "\n"
      ],
      "execution_count": null,
      "outputs": []
    },
    {
      "cell_type": "markdown",
      "metadata": {
        "id": "WL9ifA4E_XJ5"
      },
      "source": [
        "## Combine the id and probablity series"
      ]
    },
    {
      "cell_type": "code",
      "metadata": {
        "id": "YquFZ7b5n7Uf"
      },
      "source": [
        "target_test= pd.DataFrame(y_pred_proba_test)\n",
        "target_test.columns= ['Target_Probablity']\n",
        "id_test = pd.DataFrame(id)\n",
        "id_test.columns= ['id']"
      ],
      "execution_count": null,
      "outputs": []
    },
    {
      "cell_type": "code",
      "metadata": {
        "colab": {
          "base_uri": "https://localhost:8080/",
          "height": 416
        },
        "id": "WFTuUrjc-MFE",
        "outputId": "6ec6f344-16d8-4223-f413-214dc0d5482b"
      },
      "source": [
        "final_prediction= pd.concat([id_test,target_test],axis=1)\n",
        "final_prediction= final_prediction.sort_values('id').reset_index()\n",
        "final_prediction.drop('index',axis=1,inplace=True)\n",
        "final_prediction"
      ],
      "execution_count": null,
      "outputs": [
        {
          "output_type": "execute_result",
          "data": {
            "text/html": [
              "<div>\n",
              "<style scoped>\n",
              "    .dataframe tbody tr th:only-of-type {\n",
              "        vertical-align: middle;\n",
              "    }\n",
              "\n",
              "    .dataframe tbody tr th {\n",
              "        vertical-align: top;\n",
              "    }\n",
              "\n",
              "    .dataframe thead th {\n",
              "        text-align: right;\n",
              "    }\n",
              "</style>\n",
              "<table border=\"1\" class=\"dataframe\">\n",
              "  <thead>\n",
              "    <tr style=\"text-align: right;\">\n",
              "      <th></th>\n",
              "      <th>id</th>\n",
              "      <th>Target_Probablity</th>\n",
              "    </tr>\n",
              "  </thead>\n",
              "  <tbody>\n",
              "    <tr>\n",
              "      <th>0</th>\n",
              "      <td>3</td>\n",
              "      <td>0.436239</td>\n",
              "    </tr>\n",
              "    <tr>\n",
              "      <th>1</th>\n",
              "      <td>28</td>\n",
              "      <td>0.445867</td>\n",
              "    </tr>\n",
              "    <tr>\n",
              "      <th>2</th>\n",
              "      <td>30</td>\n",
              "      <td>0.423106</td>\n",
              "    </tr>\n",
              "    <tr>\n",
              "      <th>3</th>\n",
              "      <td>37</td>\n",
              "      <td>0.455702</td>\n",
              "    </tr>\n",
              "    <tr>\n",
              "      <th>4</th>\n",
              "      <td>40</td>\n",
              "      <td>0.417392</td>\n",
              "    </tr>\n",
              "    <tr>\n",
              "      <th>...</th>\n",
              "      <td>...</td>\n",
              "      <td>...</td>\n",
              "    </tr>\n",
              "    <tr>\n",
              "      <th>2124</th>\n",
              "      <td>33300</td>\n",
              "      <td>0.390746</td>\n",
              "    </tr>\n",
              "    <tr>\n",
              "      <th>2125</th>\n",
              "      <td>33308</td>\n",
              "      <td>0.503753</td>\n",
              "    </tr>\n",
              "    <tr>\n",
              "      <th>2126</th>\n",
              "      <td>33316</td>\n",
              "      <td>0.433811</td>\n",
              "    </tr>\n",
              "    <tr>\n",
              "      <th>2127</th>\n",
              "      <td>33343</td>\n",
              "      <td>0.452744</td>\n",
              "    </tr>\n",
              "    <tr>\n",
              "      <th>2128</th>\n",
              "      <td>33353</td>\n",
              "      <td>0.401932</td>\n",
              "    </tr>\n",
              "  </tbody>\n",
              "</table>\n",
              "<p>2129 rows × 2 columns</p>\n",
              "</div>"
            ],
            "text/plain": [
              "         id  Target_Probablity\n",
              "0         3           0.436239\n",
              "1        28           0.445867\n",
              "2        30           0.423106\n",
              "3        37           0.455702\n",
              "4        40           0.417392\n",
              "...     ...                ...\n",
              "2124  33300           0.390746\n",
              "2125  33308           0.503753\n",
              "2126  33316           0.433811\n",
              "2127  33343           0.452744\n",
              "2128  33353           0.401932\n",
              "\n",
              "[2129 rows x 2 columns]"
            ]
          },
          "metadata": {
            "tags": []
          },
          "execution_count": 163
        }
      ]
    },
    {
      "cell_type": "markdown",
      "metadata": {
        "id": "5o-3cIkaDHgD"
      },
      "source": [
        "## Saving the CSV file of Final Prediction"
      ]
    },
    {
      "cell_type": "code",
      "metadata": {
        "id": "pSNO2-tF-dsF"
      },
      "source": [
        "final_prediction.to_csv('final_prediction.csv')"
      ],
      "execution_count": null,
      "outputs": []
    },
    {
      "cell_type": "markdown",
      "metadata": {
        "id": "JTvaV-CCsu3y"
      },
      "source": [
        "# Thank You"
      ]
    },
    {
      "cell_type": "code",
      "metadata": {
        "id": "YZHFE7jlswLd"
      },
      "source": [
        ""
      ],
      "execution_count": null,
      "outputs": []
    }
  ]
}